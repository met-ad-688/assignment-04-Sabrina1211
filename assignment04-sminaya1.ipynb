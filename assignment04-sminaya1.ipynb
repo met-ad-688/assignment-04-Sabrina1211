{
  "cells": [
    {
      "cell_type": "markdown",
      "id": "aa3718fd-8824-4d2d-914d-9af230455e0a",
      "metadata": {},
      "source": [
        "# Assignment 04\n",
        "\n",
        "Sabrina Minaya Vasquez (Boston University)  \n",
        "October 8, 2025\n",
        "\n",
        "# 1. Load Dataset"
      ]
    },
    {
      "cell_type": "code",
      "execution_count": 27,
      "id": "72c9be57",
      "metadata": {},
      "outputs": [
        {
          "name": "stderr",
          "output_type": "stream",
          "text": [
            "[Stage 402:>                                                        (0 + 1) / 1]\r"
          ]
        },
        {
          "name": "stdout",
          "output_type": "stream",
          "text": [
            "---This is Diagnostic check, No need to print it in the final doc---\n"
          ]
        },
        {
          "name": "stderr",
          "output_type": "stream",
          "text": [
            "                                                                                \r"
          ]
        }
      ],
      "source": [
        "from pyspark.sql import SparkSession\n",
        "import pandas as pd\n",
        "import plotly.express as px\n",
        "import plotly.io as pio\n",
        "import numpy as np\n",
        "\n",
        "np.random.seed(42)\n",
        "\n",
        "pio.renderers.default = \"notebook+notebook_connected+vscode\"\n",
        "\n",
        "# Initialize Spark Session\n",
        "spark = SparkSession.builder.appName(\"LightcastData\").getOrCreate()\n",
        "\n",
        "# Load Data\n",
        "df = spark.read.option(\"header\", \"true\").option(\"inferSchema\", \"true\").option(\"multiLine\",\"true\").option(\"escape\", \"\\\"\").csv(\"/home/ubuntu/assignment-04-Sabrina1211/data/lightcast_job_postings.csv\")\n",
        "\n",
        "# Show Schema and Sample Data\n",
        "print(\"---This is Diagnostic check, No need to print it in the final doc---\")\n",
        "\n",
        "# df.printSchema() \n",
        "#df.show(5)"
      ]
    },
    {
      "cell_type": "code",
      "execution_count": 28,
      "id": "808931bd",
      "metadata": {},
      "outputs": [
        {
          "name": "stderr",
          "output_type": "stream",
          "text": [
            "                                                                                \r"
          ]
        }
      ],
      "source": [
        "# Missing Value Treatment\n",
        "\n",
        "from pyspark.sql import Window  \n",
        "from pyspark.sql import functions as F\n",
        "from pyspark.sql.functions import col, when, isnan, count, expr\n",
        "\n",
        "# 1) Overall median salary\n",
        "overall_median_salary = df.approxQuantile(\"SALARY\", [0.5], 0.01)[0]\n",
        "\n",
        "# 2) Median salary by EMPLOYMENT_TYPE\n",
        "median_by_employment_type = (\n",
        "    df.groupBy(\"EMPLOYMENT_TYPE\")\n",
        "      .agg(expr(\"percentile_approx(SALARY, 0.5)\").alias(\"median_salary_emp_type\"))\n",
        ")\n",
        "\n",
        "# 3) Median salary by EMPLOYMENT_TYPE_NAME\n",
        "median_by_employment_type_name = (\n",
        "    df.groupBy(\"EMPLOYMENT_TYPE_NAME\")\n",
        "      .agg(expr(\"percentile_approx(SALARY, 0.5)\").alias(\"median_salary_emp_type_name\"))\n",
        ")\n",
        "\n",
        "# 4) Impute SALARY: prefer EMPLOYMENT_TYPE median, then EMPLOYMENT_TYPE_NAME median, else overall median\n",
        "df_salary_imputed = (\n",
        "    df.join(median_by_employment_type, on=\"EMPLOYMENT_TYPE\", how=\"left\")\n",
        "      .join(median_by_employment_type_name, on=\"EMPLOYMENT_TYPE_NAME\", how=\"left\")\n",
        "      .withColumn(\n",
        "          \"SALARY\",\n",
        "          F.when(\n",
        "              col(\"SALARY\").isNull(),\n",
        "              F.coalesce(\n",
        "                  col(\"median_salary_emp_type\"),\n",
        "                  col(\"median_salary_emp_type_name\"),\n",
        "                  F.lit(overall_median_salary)\n",
        "              )\n",
        "          ).otherwise(col(\"SALARY\"))\n",
        "      )\n",
        "      .drop(\"median_salary_emp_type\", \"median_salary_emp_type_name\")\n",
        ")\n",
        "\n",
        "# Join median values back to the original dataframe\n",
        "df_salary_imputed = (\n",
        "    df.join(median_by_employment_type, on=\"EMPLOYMENT_TYPE\", how=\"left\")\n",
        "      .join(median_by_employment_type_name, on=\"EMPLOYMENT_TYPE_NAME\", how=\"left\")\n",
        ")\n",
        "\n",
        "# Replace missing SALARY values\n",
        "df_salary_imputed = df_salary_imputed.withColumn(\n",
        "    \"SALARY\",\n",
        "    when(col(\"SALARY\").isNull(),\n",
        "         when(col(\"median_salary_emp_type\").isNotNull(), col(\"median_salary_emp_type\"))\n",
        "         .when(col(\"median_salary_emp_type_name\").isNotNull(), col(\"median_salary_emp_type_name\"))\n",
        "         .otherwise(overall_median_salary)\n",
        "    ).otherwise(col(\"SALARY\"))\n",
        ")\n",
        "\n",
        "#df_salary_imputed.show(5)"
      ]
    },
    {
      "cell_type": "markdown",
      "id": "43e1a10e",
      "metadata": {},
      "source": [
        "# 2. Feature Engineering\n"
      ]
    },
    {
      "cell_type": "code",
      "execution_count": 3,
      "id": "8162b2ca",
      "metadata": {},
      "outputs": [
        {
          "name": "stderr",
          "output_type": "stream",
          "text": [
            "                                                                                \r"
          ]
        },
        {
          "name": "stdout",
          "output_type": "stream",
          "text": [
            "+--------+--------------------+--------------------+-----------------------------+----------------------+----------------+--------+-------------+-------------------+----------------------+---------------------------+\n",
            "|SALARY  |MIN_YEARS_EXPERIENCE|MAX_YEARS_EXPERIENCE|EDUCATION_LEVELS_NAME        |EMPLOYMENT_TYPE_NAME  |REMOTE_TYPE_NAME|DURATION|IS_INTERNSHIP|COMPANY_IS_STAFFING|median_salary_emp_type|median_salary_emp_type_name|\n",
            "+--------+--------------------+--------------------+-----------------------------+----------------------+----------------+--------+-------------+-------------------+----------------------+---------------------------+\n",
            "|116500.0|2                   |2                   |[\\n  \"Bachelor's degree\"\\n]  |Full-time (> 32 hours)|[None]          |6       |0            |0                  |116500                |116500                     |\n",
            "|116500.0|7                   |7                   |[\\n  \"No Education Listed\"\\n]|Full-time (> 32 hours)|[None]          |18      |0            |1                  |116500                |116500                     |\n",
            "|116500.0|1                   |1                   |[\\n  \"No Education Listed\"\\n]|Full-time (> 32 hours)|[None]          |8       |0            |1                  |116500                |116500                     |\n",
            "|116500.0|1                   |1                   |[\\n  \"Bachelor's degree\"\\n]  |Full-time (> 32 hours)|[None]          |32      |0            |0                  |116500                |116500                     |\n",
            "|131100.0|2                   |2                   |[\\n  \"Bachelor's degree\"\\n]  |Full-time (> 32 hours)|[None]          |11      |0            |0                  |116500                |116500                     |\n",
            "+--------+--------------------+--------------------+-----------------------------+----------------------+----------------+--------+-------------+-------------------+----------------------+---------------------------+\n",
            "only showing top 5 rows\n",
            "\n"
          ]
        }
      ],
      "source": [
        "#| eval: true\n",
        "#| echo: false\n",
        "#| fig-align: center\n",
        "\n",
        "from pyspark.sql.functions import col, pow\n",
        "from pyspark.ml.feature import StringIndexer, OneHotEncoder, VectorAssembler\n",
        "from pyspark.ml import Pipeline\n",
        "from pyspark.sql.types import BooleanType, StringType, IntegerType\n",
        "from pyspark.sql.types import IntegerType, DoubleType, DecimalType\n",
        "\n",
        "# Drop rows with NA values in relevant columns\n",
        "regression_df = df_salary_imputed.dropna(subset=[\n",
        "    \"SALARY\", \"MIN_YEARS_EXPERIENCE\", \"MAX_YEARS_EXPERIENCE\",\n",
        "    \"EDUCATION_LEVELS_NAME\", \"EMPLOYMENT_TYPE_NAME\", \"REMOTE_TYPE_NAME\",\n",
        "    \"DURATION\", \"IS_INTERNSHIP\", \"COMPANY_IS_STAFFING\"\n",
        "]).select(\n",
        "    \"SALARY\", \"MIN_YEARS_EXPERIENCE\", \"MAX_YEARS_EXPERIENCE\",\n",
        "    \"EDUCATION_LEVELS_NAME\", \"EMPLOYMENT_TYPE_NAME\", \"REMOTE_TYPE_NAME\",\n",
        "    \"DURATION\", \"IS_INTERNSHIP\", \"COMPANY_IS_STAFFING\",\n",
        "    \"median_salary_emp_type\", \"median_salary_emp_type_name\"\n",
        ")\n",
        "\n",
        "# Convert Duration to numeric (in days)\n",
        "regression_df = regression_df.withColumn(\"DURATION\", col(\"DURATION\").cast(IntegerType()))\n",
        "\n",
        "# Categorical columns\n",
        "categorical_cols = [\n",
        "    \"EDUCATION_LEVELS_NAME\", \"EMPLOYMENT_TYPE_NAME\", \"REMOTE_TYPE_NAME\", \"IS_INTERNSHIP\", \"COMPANY_IS_STAFFING\"\n",
        "]\n",
        "\n",
        "# Cast boolean columns to integer\n",
        "regression_df = regression_df.withColumn(\"IS_INTERNSHIP\", col(\"IS_INTERNSHIP\").cast(IntegerType()))\n",
        "regression_df = regression_df.withColumn(\"COMPANY_IS_STAFFING\", col(\"COMPANY_IS_STAFFING\").cast(IntegerType()))\n",
        "\n",
        "# Show a preview\n",
        "regression_df.show(5, truncate=False)\n"
      ]
    },
    {
      "cell_type": "code",
      "execution_count": 4,
      "id": "10e390df",
      "metadata": {},
      "outputs": [
        {
          "name": "stderr",
          "output_type": "stream",
          "text": [
            "                                                                                \r"
          ]
        },
        {
          "name": "stdout",
          "output_type": "stream",
          "text": [
            "+--------+-------------------------------------------------------------+\n",
            "|SALARY  |features                                                     |\n",
            "+--------+-------------------------------------------------------------+\n",
            "|116500.0|(28,[0,1,2,3,21,23,26,27],[2.0,2.0,6.0,1.0,1.0,1.0,1.0,1.0]) |\n",
            "|116500.0|(28,[0,1,2,4,21,23,26],[7.0,7.0,18.0,1.0,1.0,1.0,1.0])       |\n",
            "|116500.0|(28,[0,1,2,4,21,23,26],[1.0,1.0,8.0,1.0,1.0,1.0,1.0])        |\n",
            "|116500.0|(28,[0,1,2,3,21,23,26,27],[1.0,1.0,32.0,1.0,1.0,1.0,1.0,1.0])|\n",
            "|131100.0|(28,[0,1,2,3,21,23,26,27],[2.0,2.0,11.0,1.0,1.0,1.0,1.0,1.0])|\n",
            "+--------+-------------------------------------------------------------+\n",
            "only showing top 5 rows\n",
            "\n"
          ]
        }
      ],
      "source": [
        "# Clean Education Levels by cleaning \\n and array brackets\n",
        "from pyspark.sql.functions import regexp_replace, trim\n",
        "\n",
        "regression_df = regression_df.withColumn(\n",
        "    \"EDUCATION_LEVELS_NAME\",\n",
        "    trim(regexp_replace(col(\"EDUCATION_LEVELS_NAME\"), r\"[\\[\\]\\n]\", \"\"))\n",
        ")\n",
        "\n",
        "# Index and One-Hot Encode\n",
        "indexers = [\n",
        "    StringIndexer(inputCol=col, outputCol=f\"{col}_idx\", handleInvalid='skip')\n",
        "    for col in categorical_cols\n",
        "]\n",
        "encoders = [\n",
        "    OneHotEncoder(inputCol=f\"{col}_idx\", outputCol=f\"{col}_vec\")\n",
        "    for col in categorical_cols\n",
        "]\n",
        "\n",
        "# Assemble base features (for GLR and Random Forest)\n",
        "assembler = VectorAssembler(\n",
        "    inputCols=[\n",
        "        \"MIN_YEARS_EXPERIENCE\", \"MAX_YEARS_EXPERIENCE\", \"DURATION\"\n",
        "    ] + [f\"{col}_vec\" for col in categorical_cols],\n",
        "    outputCol=\"features\"\n",
        ")\n",
        "\n",
        "pipeline = Pipeline(stages=indexers + encoders + [assembler])\n",
        "regression_data = pipeline.fit(regression_df).transform(regression_df)\n",
        "\n",
        "# Show final features structure\n",
        "regression_data.select(\"SALARY\", \"features\").show(5, truncate=False)\n"
      ]
    },
    {
      "cell_type": "markdown",
      "id": "552ab383",
      "metadata": {},
      "source": [
        "# 3. Train/Test Split\n"
      ]
    },
    {
      "cell_type": "markdown",
      "id": "7dfe9907",
      "metadata": {},
      "source": [
        "I used an 80/20 train–test split. The 80% gives the model enough data to learn stable patterns, while the remaining 20% is a clean hold-out to evaluate how well it generalizes to unseen jobs. This ratio is a common default for regression problems because it balances learning and evaluation without wasting data. I also set a seed (42) so the split is reproducible."
      ]
    },
    {
      "cell_type": "code",
      "execution_count": 5,
      "id": "a1481148",
      "metadata": {},
      "outputs": [
        {
          "name": "stderr",
          "output_type": "stream",
          "text": [
            "                                                                                \r"
          ]
        },
        {
          "name": "stdout",
          "output_type": "stream",
          "text": [
            "(5039, 22)\n"
          ]
        },
        {
          "name": "stderr",
          "output_type": "stream",
          "text": [
            "                                                                                \r"
          ]
        },
        {
          "name": "stdout",
          "output_type": "stream",
          "text": [
            "(4070, 22)\n"
          ]
        },
        {
          "name": "stderr",
          "output_type": "stream",
          "text": [
            "[Stage 103:>                                                        (0 + 1) / 1]\r"
          ]
        },
        {
          "name": "stdout",
          "output_type": "stream",
          "text": [
            "(969, 22)\n"
          ]
        },
        {
          "name": "stderr",
          "output_type": "stream",
          "text": [
            "                                                                                \r"
          ]
        }
      ],
      "source": [
        "#| eval: true\n",
        "#| echo: false\n",
        "#| fig-align: center\n",
        "\n",
        "# Split Data\n",
        "regression_train, regression_test = regression_data.randomSplit([0.8, 0.2], seed=42)\n",
        "\n",
        "print((regression_data.count(), len(regression_data.columns)))\n",
        "print((regression_train.count(), len(regression_train.columns)))\n",
        "print((regression_test.count(), len(regression_test.columns)))\n",
        "\n"
      ]
    },
    {
      "cell_type": "markdown",
      "id": "31b85851",
      "metadata": {},
      "source": [
        "# 4. Linear Regression"
      ]
    },
    {
      "cell_type": "code",
      "execution_count": 6,
      "id": "690b41d6",
      "metadata": {},
      "outputs": [
        {
          "name": "stderr",
          "output_type": "stream",
          "text": [
            "25/10/05 21:34:11 WARN InstanceBuilder: Failed to load implementation from:dev.ludovic.netlib.blas.VectorBLAS\n",
            "                                                                                \r"
          ]
        }
      ],
      "source": [
        "\n",
        "from pyspark.ml.regression import GeneralizedLinearRegression\n",
        "\n",
        "feature_names = assembler.getInputCols()\n",
        "\n",
        "glr = GeneralizedLinearRegression(\n",
        "    featuresCol=\"features\",\n",
        "    labelCol=\"SALARY\",\n",
        "    family=\"gaussian\",\n",
        "    link=\"identity\",  # standard linear regression\n",
        "    maxIter=10,\n",
        "    regParam=0.3\n",
        ")\n",
        "\n",
        "glr_model = glr.fit(regression_data)\n",
        "summary = glr_model.summary\n"
      ]
    },
    {
      "cell_type": "code",
      "execution_count": 7,
      "id": "58367055",
      "metadata": {},
      "outputs": [
        {
          "name": "stdout",
          "output_type": "stream",
          "text": [
            "Intercept: 83684.2103\n",
            "Coefficients:\n",
            "Feature 1: 1596.5795\n",
            "Feature 2: 1596.5795\n",
            "Feature 3: 31.1901\n",
            "Feature 4: 2943.3549\n",
            "Feature 5: 5624.8675\n",
            "Feature 6: 11303.5572\n",
            "Feature 7: -25678.5645\n",
            "Feature 8: 14668.1325\n",
            "Feature 9: -9752.7189\n",
            "Feature 10: -118.7467\n",
            "Feature 11: 13480.7278\n",
            "Feature 12: -9277.3038\n",
            "Feature 13: 3310.0724\n",
            "Feature 14: -14782.2689\n",
            "Feature 15: 35678.4989\n",
            "Feature 16: -8064.0197\n",
            "Feature 17: -2793.9409\n",
            "Feature 18: 17915.8367\n",
            "Feature 19: 8358.0949\n",
            "Feature 20: -35699.8382\n",
            "Feature 21: 32498.9245\n",
            "Feature 22: 6376.6043\n",
            "Feature 23: -5663.4155\n",
            "Feature 24: 4176.7678\n",
            "Feature 25: 8503.4618\n",
            "Feature 26: 2741.9488\n",
            "Feature 27: -765.8130\n",
            "Feature 28: -111.3548\n"
          ]
        }
      ],
      "source": [
        "# Coefficients and Intercept\n",
        "print(\"Intercept: {:.4f}\".format(glr_model.intercept))\n",
        "print(\"Coefficients:\")\n",
        "for i, coef in enumerate(glr_model.coefficients):\n",
        "    print(f\"Feature {i + 1}: {coef:.4f}\")\n"
      ]
    },
    {
      "cell_type": "code",
      "execution_count": 8,
      "id": "13fa7062",
      "metadata": {},
      "outputs": [
        {
          "name": "stdout",
          "output_type": "stream",
          "text": [
            "\n",
            "--- Regression Summary ---\n"
          ]
        },
        {
          "name": "stderr",
          "output_type": "stream",
          "text": [
            "[Stage 125:>                                                        (0 + 1) / 1]\r"
          ]
        },
        {
          "name": "stdout",
          "output_type": "stream",
          "text": [
            "Coefficient Standard Errors: ['22889.3361', '22889.3361', '20.7234', '20967.0009', '20980.9421', '20982.8316', '21094.7761', '21104.6267', '21115.7024', '21143.7509', '21221.3547', '21327.2560', '21500.7656', '21553.1712', '21698.8688', '21921.5499', '22028.5324', '22141.1180', '22282.5601', '24311.4028', '24305.5662', '3075.8265', '3587.0214', '2925.8458', '2988.0317', '3375.9809', '4590.5476', '825.5726', '21910.9169']\n",
            "T-Values: ['0.0698', '0.0698', '1.5051', '0.1404', '0.2681', '0.5387', '-1.2173', '0.6950', '-0.4619', '-0.0056', '0.6352', '-0.4350', '0.1540', '-0.6859', '1.6443', '-0.3679', '-0.1268', '0.8092', '0.3751', '-1.4684', '1.3371', '2.0731', '-1.5789', '1.4275', '2.8458', '0.8122', '-0.1668', '-0.1349', '3.8193']\n",
            "P-Values: ['0.9444', '0.9444', '0.1324', '0.8884', '0.7886', '0.5901', '0.2235', '0.4871', '0.6442', '0.9955', '0.5253', '0.6636', '0.8777', '0.4928', '0.1002', '0.7130', '0.8991', '0.4185', '0.7076', '0.1420', '0.1813', '0.0382', '0.1144', '0.1535', '0.0044', '0.4167', '0.8675', '0.8927', '0.0001']\n"
          ]
        },
        {
          "name": "stderr",
          "output_type": "stream",
          "text": [
            "                                                                                \r"
          ]
        }
      ],
      "source": [
        "# Summary stats\n",
        "print(\"\\n--- Regression Summary ---\")\n",
        "print(\"Coefficient Standard Errors:\", [f\"{val:.4f}\" for val in summary.coefficientStandardErrors])\n",
        "print(\"T-Values:\", [f\"{val:.4f}\" for val in summary.tValues])\n",
        "print(\"P-Values:\", [f\"{val:.4f}\" for val in summary.pValues])\n"
      ]
    },
    {
      "cell_type": "code",
      "execution_count": 9,
      "id": "42711014",
      "metadata": {},
      "outputs": [
        {
          "name": "stderr",
          "output_type": "stream",
          "text": [
            "[Stage 132:>                                                        (0 + 1) / 1]\r"
          ]
        },
        {
          "name": "stdout",
          "output_type": "stream",
          "text": [
            "Null Deviance: 2909123659016.3213\n",
            "Residual DF Null: 5038\n",
            "Deviance: 2272959595356.6333\n",
            "Residual DF: 5010\n"
          ]
        },
        {
          "name": "stderr",
          "output_type": "stream",
          "text": [
            "[Stage 143:>                                                        (0 + 1) / 1]\r"
          ]
        },
        {
          "name": "stdout",
          "output_type": "stream",
          "text": [
            "AIC: 114772.9258\n"
          ]
        },
        {
          "name": "stderr",
          "output_type": "stream",
          "text": [
            "                                                                                \r"
          ]
        }
      ],
      "source": [
        "# print(f\"\\nDispersion: {summary.dispersion:.4f}\")\n",
        "print(f\"Null Deviance: {summary.nullDeviance:.4f}\")\n",
        "print(f\"Residual DF Null: {summary.residualDegreeOfFreedomNull}\")\n",
        "print(f\"Deviance: {summary.deviance:.4f}\")\n",
        "print(f\"Residual DF: {summary.residualDegreeOfFreedom}\")\n",
        "print(f\"AIC: {summary.aic:.4f}\")\n"
      ]
    },
    {
      "cell_type": "code",
      "execution_count": 10,
      "id": "0b9188cf",
      "metadata": {},
      "outputs": [
        {
          "name": "stdout",
          "output_type": "stream",
          "text": [
            "--- This is a diagnostic check, no need to print in the final doc ---\n",
            "Length of features: 29\n",
            "Length of coefs: 29\n",
            "Length of se: 29\n",
            "Length of tvals: 29\n",
            "Length of pvals: 29\n"
          ]
        }
      ],
      "source": [
        "# 1. Pull feature names directly from Java backend\n",
        "feature_names = summary._call_java(\"featureNames\")\n",
        "\n",
        "# 2. Construct full table including intercept\n",
        "features = [\"Intercept\"] + list(feature_names)\n",
        "coefs    = [glr_model.intercept] + list(glr_model.coefficients)\n",
        "se       = list(summary.coefficientStandardErrors)\n",
        "tvals    = list(summary.tValues)\n",
        "pvals    = list(summary.pValues)\n",
        "\n",
        "# (Optional) quick diagnostics\n",
        "print(\"--- This is a diagnostic check, no need to print in the final doc ---\")\n",
        "print(\"Length of features:\", len(features))\n",
        "print(\"Length of coefs:\", len(coefs))\n",
        "print(\"Length of se:\", len(se))\n",
        "print(\"Length of tvals:\", len(tvals))\n",
        "print(\"Length of pvals:\", len(pvals))\n"
      ]
    },
    {
      "cell_type": "markdown",
      "id": "ccbfffc2",
      "metadata": {},
      "source": [
        "# 4.1 Generalized Linear Regression Summary\n"
      ]
    },
    {
      "cell_type": "code",
      "execution_count": 11,
      "id": "131f610b",
      "metadata": {},
      "outputs": [
        {
          "data": {
            "text/html": [
              "<table border=\"1\" class=\"dataframe\">\n",
              "  <thead>\n",
              "    <tr style=\"text-align: right;\">\n",
              "      <th></th>\n",
              "      <th>Feature</th>\n",
              "      <th>Estimate</th>\n",
              "      <th>Std Error</th>\n",
              "      <th>t-stat</th>\n",
              "      <th>P-Value</th>\n",
              "    </tr>\n",
              "  </thead>\n",
              "  <tbody>\n",
              "    <tr>\n",
              "      <th>0</th>\n",
              "      <td>Intercept</td>\n",
              "      <td>83684.2103</td>\n",
              "      <td>22889.3361</td>\n",
              "      <td>0.0698</td>\n",
              "      <td>0.9444</td>\n",
              "    </tr>\n",
              "    <tr>\n",
              "      <th>1</th>\n",
              "      <td>MIN_YEARS_EXPERIENCE</td>\n",
              "      <td>1596.5795</td>\n",
              "      <td>22889.3361</td>\n",
              "      <td>0.0698</td>\n",
              "      <td>0.9444</td>\n",
              "    </tr>\n",
              "    <tr>\n",
              "      <th>2</th>\n",
              "      <td>MAX_YEARS_EXPERIENCE</td>\n",
              "      <td>1596.5795</td>\n",
              "      <td>20.7234</td>\n",
              "      <td>1.5051</td>\n",
              "      <td>0.1324</td>\n",
              "    </tr>\n",
              "    <tr>\n",
              "      <th>3</th>\n",
              "      <td>DURATION</td>\n",
              "      <td>31.1901</td>\n",
              "      <td>20967.0009</td>\n",
              "      <td>0.1404</td>\n",
              "      <td>0.8884</td>\n",
              "    </tr>\n",
              "    <tr>\n",
              "      <th>4</th>\n",
              "      <td>EDUCATION_LEVELS_NAME_vec_\"Bachelor's degree\"</td>\n",
              "      <td>2943.3549</td>\n",
              "      <td>20980.9421</td>\n",
              "      <td>0.2681</td>\n",
              "      <td>0.7886</td>\n",
              "    </tr>\n",
              "    <tr>\n",
              "      <th>5</th>\n",
              "      <td>EDUCATION_LEVELS_NAME_vec_\"No Education Listed\"</td>\n",
              "      <td>5624.8675</td>\n",
              "      <td>20982.8316</td>\n",
              "      <td>0.5387</td>\n",
              "      <td>0.5901</td>\n",
              "    </tr>\n",
              "    <tr>\n",
              "      <th>6</th>\n",
              "      <td>EDUCATION_LEVELS_NAME_vec_\"Bachelor's degree\",  \"Master's degree\"</td>\n",
              "      <td>11303.5572</td>\n",
              "      <td>21094.7761</td>\n",
              "      <td>-1.2173</td>\n",
              "      <td>0.2235</td>\n",
              "    </tr>\n",
              "    <tr>\n",
              "      <th>7</th>\n",
              "      <td>EDUCATION_LEVELS_NAME_vec_\"High school or GED\",  \"Bachelor's degree\"</td>\n",
              "      <td>-25678.5645</td>\n",
              "      <td>21104.6267</td>\n",
              "      <td>0.6950</td>\n",
              "      <td>0.4871</td>\n",
              "    </tr>\n",
              "    <tr>\n",
              "      <th>8</th>\n",
              "      <td>EDUCATION_LEVELS_NAME_vec_\"Bachelor's degree\",  \"Master's degree\",  \"Ph.D. or professional degree\"</td>\n",
              "      <td>14668.1325</td>\n",
              "      <td>21115.7024</td>\n",
              "      <td>-0.4619</td>\n",
              "      <td>0.6442</td>\n",
              "    </tr>\n",
              "    <tr>\n",
              "      <th>9</th>\n",
              "      <td>EDUCATION_LEVELS_NAME_vec_\"High school or GED\"</td>\n",
              "      <td>-9752.7189</td>\n",
              "      <td>21143.7509</td>\n",
              "      <td>-0.0056</td>\n",
              "      <td>0.9955</td>\n",
              "    </tr>\n",
              "    <tr>\n",
              "      <th>10</th>\n",
              "      <td>EDUCATION_LEVELS_NAME_vec_\"Associate degree\",  \"Bachelor's degree\"</td>\n",
              "      <td>-118.7467</td>\n",
              "      <td>21221.3547</td>\n",
              "      <td>0.6352</td>\n",
              "      <td>0.5253</td>\n",
              "    </tr>\n",
              "    <tr>\n",
              "      <th>11</th>\n",
              "      <td>EDUCATION_LEVELS_NAME_vec_\"Master's degree\"</td>\n",
              "      <td>13480.7278</td>\n",
              "      <td>21327.2560</td>\n",
              "      <td>-0.4350</td>\n",
              "      <td>0.6636</td>\n",
              "    </tr>\n",
              "    <tr>\n",
              "      <th>12</th>\n",
              "      <td>EDUCATION_LEVELS_NAME_vec_\"Associate degree\"</td>\n",
              "      <td>-9277.3038</td>\n",
              "      <td>21500.7656</td>\n",
              "      <td>0.1540</td>\n",
              "      <td>0.8777</td>\n",
              "    </tr>\n",
              "    <tr>\n",
              "      <th>13</th>\n",
              "      <td>EDUCATION_LEVELS_NAME_vec_\"Associate degree\",  \"Bachelor's degree\",  \"Master's degree\"</td>\n",
              "      <td>3310.0724</td>\n",
              "      <td>21553.1712</td>\n",
              "      <td>-0.6859</td>\n",
              "      <td>0.4928</td>\n",
              "    </tr>\n",
              "    <tr>\n",
              "      <th>14</th>\n",
              "      <td>EDUCATION_LEVELS_NAME_vec_\"Associate degree\",  \"Bachelor's degree\",  \"Master's degree\",  \"Ph.D. or professional degree\"</td>\n",
              "      <td>-14782.2689</td>\n",
              "      <td>21698.8688</td>\n",
              "      <td>1.6443</td>\n",
              "      <td>0.1002</td>\n",
              "    </tr>\n",
              "    <tr>\n",
              "      <th>15</th>\n",
              "      <td>EDUCATION_LEVELS_NAME_vec_\"Bachelor's degree\",  \"Ph.D. or professional degree\"</td>\n",
              "      <td>35678.4989</td>\n",
              "      <td>21921.5499</td>\n",
              "      <td>-0.3679</td>\n",
              "      <td>0.7130</td>\n",
              "    </tr>\n",
              "    <tr>\n",
              "      <th>16</th>\n",
              "      <td>EDUCATION_LEVELS_NAME_vec_\"High school or GED\",  \"Associate degree\",  \"Bachelor's degree\"</td>\n",
              "      <td>-8064.0197</td>\n",
              "      <td>22028.5324</td>\n",
              "      <td>-0.1268</td>\n",
              "      <td>0.8991</td>\n",
              "    </tr>\n",
              "    <tr>\n",
              "      <th>17</th>\n",
              "      <td>EDUCATION_LEVELS_NAME_vec_\"High school or GED\",  \"Bachelor's degree\",  \"Master's degree\"</td>\n",
              "      <td>-2793.9409</td>\n",
              "      <td>22141.1180</td>\n",
              "      <td>0.8092</td>\n",
              "      <td>0.4185</td>\n",
              "    </tr>\n",
              "    <tr>\n",
              "      <th>18</th>\n",
              "      <td>EDUCATION_LEVELS_NAME_vec_\"Master's degree\",  \"Ph.D. or professional degree\"</td>\n",
              "      <td>17915.8367</td>\n",
              "      <td>22282.5601</td>\n",
              "      <td>0.3751</td>\n",
              "      <td>0.7076</td>\n",
              "    </tr>\n",
              "    <tr>\n",
              "      <th>19</th>\n",
              "      <td>EDUCATION_LEVELS_NAME_vec_\"High school or GED\",  \"Associate degree\"</td>\n",
              "      <td>8358.0949</td>\n",
              "      <td>24311.4028</td>\n",
              "      <td>-1.4684</td>\n",
              "      <td>0.1420</td>\n",
              "    </tr>\n",
              "    <tr>\n",
              "      <th>20</th>\n",
              "      <td>EDUCATION_LEVELS_NAME_vec_\"High school or GED\",  \"Associate degree\",  \"Bachelor's degree\",  \"Master's degree\"</td>\n",
              "      <td>-35699.8382</td>\n",
              "      <td>24305.5662</td>\n",
              "      <td>1.3371</td>\n",
              "      <td>0.1813</td>\n",
              "    </tr>\n",
              "    <tr>\n",
              "      <th>21</th>\n",
              "      <td>EDUCATION_LEVELS_NAME_vec_\"Ph.D. or professional degree\"</td>\n",
              "      <td>32498.9245</td>\n",
              "      <td>3075.8265</td>\n",
              "      <td>2.0731</td>\n",
              "      <td>0.0382</td>\n",
              "    </tr>\n",
              "    <tr>\n",
              "      <th>22</th>\n",
              "      <td>EMPLOYMENT_TYPE_NAME_vec_Full-time (&gt; 32 hours)</td>\n",
              "      <td>6376.6043</td>\n",
              "      <td>3587.0214</td>\n",
              "      <td>-1.5789</td>\n",
              "      <td>0.1144</td>\n",
              "    </tr>\n",
              "    <tr>\n",
              "      <th>23</th>\n",
              "      <td>EMPLOYMENT_TYPE_NAME_vec_Part-time (â‰¤ 32 hours)</td>\n",
              "      <td>-5663.4155</td>\n",
              "      <td>2925.8458</td>\n",
              "      <td>1.4275</td>\n",
              "      <td>0.1535</td>\n",
              "    </tr>\n",
              "    <tr>\n",
              "      <th>24</th>\n",
              "      <td>REMOTE_TYPE_NAME_vec_[None]</td>\n",
              "      <td>4176.7678</td>\n",
              "      <td>2988.0317</td>\n",
              "      <td>2.8458</td>\n",
              "      <td>0.0044</td>\n",
              "    </tr>\n",
              "    <tr>\n",
              "      <th>25</th>\n",
              "      <td>REMOTE_TYPE_NAME_vec_Remote</td>\n",
              "      <td>8503.4618</td>\n",
              "      <td>3375.9809</td>\n",
              "      <td>0.8122</td>\n",
              "      <td>0.4167</td>\n",
              "    </tr>\n",
              "    <tr>\n",
              "      <th>26</th>\n",
              "      <td>REMOTE_TYPE_NAME_vec_Hybrid Remote</td>\n",
              "      <td>2741.9488</td>\n",
              "      <td>4590.5476</td>\n",
              "      <td>-0.1668</td>\n",
              "      <td>0.8675</td>\n",
              "    </tr>\n",
              "    <tr>\n",
              "      <th>27</th>\n",
              "      <td>IS_INTERNSHIP_vec_0</td>\n",
              "      <td>-765.8130</td>\n",
              "      <td>825.5726</td>\n",
              "      <td>-0.1349</td>\n",
              "      <td>0.8927</td>\n",
              "    </tr>\n",
              "    <tr>\n",
              "      <th>28</th>\n",
              "      <td>COMPANY_IS_STAFFING_vec_0</td>\n",
              "      <td>-111.3548</td>\n",
              "      <td>21910.9169</td>\n",
              "      <td>3.8193</td>\n",
              "      <td>0.0001</td>\n",
              "    </tr>\n",
              "  </tbody>\n",
              "</table>"
            ],
            "text/plain": [
              "<IPython.core.display.HTML object>"
            ]
          },
          "execution_count": 11,
          "metadata": {},
          "output_type": "execute_result"
        }
      ],
      "source": [
        "import pandas as pd\n",
        "from tabulate import tabulate\n",
        "from IPython.display import HTML\n",
        "\n",
        "coef_table = pd.DataFrame({\n",
        "    \"Feature\": features,\n",
        "    \"Estimate\": [f\"{v:.4f}\" if v is not None else None for v in coefs],\n",
        "    \"Std Error\": [f\"{v:.4f}\" if v is not None else None for v in se],\n",
        "    \"t-stat\": [f\"{v:.4f}\" if v is not None else None for v in tvals],\n",
        "    \"P-Value\": [f\"{v:.4f}\" if v is not None else None for v in pvals]\n",
        "})\n",
        "\n",
        "# 4. Save for report\n",
        "coef_table.to_csv(\"output/glr_summary.csv\", index=False)\n",
        "\n",
        "# 5. Optional pretty print\n",
        "HTML(coef_table.to_html())\n"
      ]
    },
    {
      "cell_type": "markdown",
      "id": "7551d8b9",
      "metadata": {},
      "source": [
        "# Linear Regreassion Model Interpretation \n",
        "\n",
        "In my linear regression model, each coefficient represents how much the predicted salary changes when that feature increases by one unit, assuming all other variables stay constant. Positive coefficients indicate that higher values of that feature increase salary, while negative coefficients reduce it.\n",
        "\n",
        "Looking at the t-values and p-values, only a few variables show statistical significance (p < 0.05), meaning most predictors do not have a strong linear relationship with salary on their own. The features with smaller p-values (for example, those around 0.04 or below) contribute more meaningfully to the model's predictions.\n",
        "\n",
        "The model's overall performance shows moderate predictive power; its (R)^2 value indicates it explains part of the salary variation but leaves room for non linear effects or missing factors. The RMSE (around $21,796) shows that predicted salaries differ from actual values by about $22,000 on average, which is acceptable for exploratory modeling but suggests more complex models (like polynomial or random forest) can improve accuracy."
      ]
    },
    {
      "cell_type": "markdown",
      "id": "78d04d07",
      "metadata": {},
      "source": [
        "# 5. Polymnomial Regression"
      ]
    },
    {
      "cell_type": "code",
      "execution_count": 12,
      "id": "9c4c9478",
      "metadata": {},
      "outputs": [
        {
          "name": "stderr",
          "output_type": "stream",
          "text": [
            "                                                                                \r"
          ]
        },
        {
          "name": "stdout",
          "output_type": "stream",
          "text": [
            "+--------+-------------------------------------------------------------------+\n",
            "|SALARY  |features_poly                                                      |\n",
            "+--------+-------------------------------------------------------------------+\n",
            "|116500.0|(29,[0,1,2,3,4,22,24,27,28],[2.0,4.0,2.0,6.0,1.0,1.0,1.0,1.0,1.0]) |\n",
            "|116500.0|(29,[0,1,2,3,5,22,24,27],[7.0,49.0,7.0,18.0,1.0,1.0,1.0,1.0])      |\n",
            "|116500.0|(29,[0,1,2,3,5,22,24,27],[1.0,1.0,1.0,8.0,1.0,1.0,1.0,1.0])        |\n",
            "|116500.0|(29,[0,1,2,3,4,22,24,27,28],[1.0,1.0,1.0,32.0,1.0,1.0,1.0,1.0,1.0])|\n",
            "|131100.0|(29,[0,1,2,3,4,22,24,27,28],[2.0,4.0,2.0,11.0,1.0,1.0,1.0,1.0,1.0])|\n",
            "+--------+-------------------------------------------------------------------+\n",
            "only showing top 5 rows\n",
            "\n"
          ]
        }
      ],
      "source": [
        "#| eval: true\n",
        "#| echo: false\n",
        "#| fig-align: center\n",
        "\n",
        "# Index and One-Hot Encode\n",
        "# Create squared term for Polynomial Regression\n",
        "poly_data = regression_data.withColumn(\n",
        "    \"MAX_YEARS_EXPERIENCE_SQ\",\n",
        "    pow(col(\"MAX_YEARS_EXPERIENCE\"), 2)\n",
        ")\n",
        "\n",
        "# Assemble polynomial features\n",
        "assembler_poly = VectorAssembler(\n",
        "    inputCols=[\n",
        "        \"MIN_YEARS_EXPERIENCE\", \"MAX_YEARS_EXPERIENCE_SQ\", \"MAX_YEARS_EXPERIENCE\",\n",
        "        \"DURATION\"\n",
        "    ] + [f\"{col}_vec\" for col in categorical_cols],\n",
        "    outputCol=\"features_poly\"\n",
        ")\n",
        "\n",
        "poly_data = assembler_poly.transform(poly_data)\n",
        "\n",
        "# Show final structure\n",
        "poly_data.select(\"SALARY\", \"features_poly\").show(5, truncate=False)\n"
      ]
    },
    {
      "cell_type": "code",
      "execution_count": 13,
      "id": "5530a6bd",
      "metadata": {},
      "outputs": [
        {
          "name": "stderr",
          "output_type": "stream",
          "text": [
            "                                                                                \r"
          ]
        },
        {
          "name": "stdout",
          "output_type": "stream",
          "text": [
            "(5039, 24)\n"
          ]
        },
        {
          "name": "stderr",
          "output_type": "stream",
          "text": [
            "                                                                                \r"
          ]
        },
        {
          "name": "stdout",
          "output_type": "stream",
          "text": [
            "(4070, 24)\n"
          ]
        },
        {
          "name": "stderr",
          "output_type": "stream",
          "text": [
            "[Stage 176:>                                                        (0 + 1) / 1]\r"
          ]
        },
        {
          "name": "stdout",
          "output_type": "stream",
          "text": [
            "(969, 24)\n"
          ]
        },
        {
          "name": "stderr",
          "output_type": "stream",
          "text": [
            "                                                                                \r"
          ]
        }
      ],
      "source": [
        "# Split Data\n",
        "polyreg_train, polyreg_test = poly_data.randomSplit([0.8, 0.2], seed=42)\n",
        "\n",
        "print((poly_data.count(), len(poly_data.columns)))\n",
        "print((polyreg_train.count(), len(polyreg_train.columns)))\n",
        "print((polyreg_test.count(), len(polyreg_test.columns)))\n"
      ]
    },
    {
      "cell_type": "code",
      "execution_count": 14,
      "id": "22c13edf",
      "metadata": {},
      "outputs": [
        {
          "name": "stderr",
          "output_type": "stream",
          "text": [
            "                                                                                \r"
          ]
        }
      ],
      "source": [
        "from pyspark.ml.regression import GeneralizedLinearRegression\n",
        "\n",
        "feature_names = assembler.getInputCols()\n",
        "\n",
        "poly_glr_max_years = GeneralizedLinearRegression(\n",
        "    featuresCol=\"features_poly\",\n",
        "    labelCol=\"SALARY\",\n",
        "    family=\"gaussian\",   # normal distribution\n",
        "    link=\"identity\",     # standard linear regression\n",
        "    maxIter=10,          # number of iterations for least squares\n",
        "    regParam=0.3         # regularization parameter (L2 regularization by default)\n",
        ")\n",
        "\n",
        "poly_glr_max_years_model = poly_glr_max_years.fit(poly_data)\n",
        "poly_summary = poly_glr_max_years_model.summary\n",
        "\n"
      ]
    },
    {
      "cell_type": "code",
      "execution_count": 15,
      "id": "d6bc8da9",
      "metadata": {},
      "outputs": [
        {
          "name": "stdout",
          "output_type": "stream",
          "text": [
            "Intercept: 87729.4985\n",
            "Coefficients:\n",
            "Feature 1: 3073.9396\n",
            "Feature 2: -292.0763\n",
            "Feature 3: 3073.9396\n",
            "Feature 4: 29.5828\n",
            "Feature 5: -2253.9775\n",
            "Feature 6: 805.2130\n",
            "Feature 7: 5881.4501\n",
            "Feature 8: -30439.8972\n",
            "Feature 9: 8412.8920\n",
            "Feature 10: -13680.3546\n",
            "Feature 11: -4660.4367\n",
            "Feature 12: 7967.9560\n",
            "Feature 13: -14214.1229\n",
            "Feature 14: -2857.2642\n",
            "Feature 15: -15252.4114\n",
            "Feature 16: 38851.8773\n",
            "Feature 17: -12908.6915\n",
            "Feature 18: -9159.5725\n",
            "Feature 19: 13889.7107\n",
            "Feature 20: 4123.7347\n",
            "Feature 21: -40022.9996\n",
            "Feature 22: 27224.9060\n",
            "Feature 23: 5759.7671\n",
            "Feature 24: -6588.6707\n",
            "Feature 25: 3972.6485\n",
            "Feature 26: 8353.6157\n",
            "Feature 27: 2403.5211\n",
            "Feature 28: -4220.3464\n",
            "Feature 29: 214.4410\n"
          ]
        }
      ],
      "source": [
        "# Coefficients and Intercept\n",
        "print(\"Intercept: {:.4f}\".format(poly_glr_max_years_model.intercept))\n",
        "print(\"Coefficients:\")\n",
        "for i, coef in enumerate(poly_glr_max_years_model.coefficients):\n",
        "    print(f\"Feature {i + 1}: {coef:.4f}\")\n"
      ]
    },
    {
      "cell_type": "code",
      "execution_count": 16,
      "id": "a317d8eb",
      "metadata": {},
      "outputs": [
        {
          "name": "stdout",
          "output_type": "stream",
          "text": [
            "\n",
            "--- Poly Summary ---\n"
          ]
        },
        {
          "name": "stderr",
          "output_type": "stream",
          "text": [
            "[Stage 204:>                                                        (0 + 1) / 1]\r"
          ]
        },
        {
          "name": "stdout",
          "output_type": "stream",
          "text": [
            "Coefficient Standard Errors: ['22747.6805', '36.5365', '22747.6805', '20.5955', '20846.6950', '20859.1237', '20863.3147', '20971.9940', '20987.9155', '20990.0817', '21019.8840', '21100.5976', '21203.5634', '21380.9216', '21419.1586', '21567.5225', '21793.5925', '21905.9591', '22009.1299', '22150.2630', '24166.2009', '24163.3570', '3057.6640', '3566.5832', '2907.7548', '2969.5007', '3355.2443', '4582.4088', '821.4479', '21780.4771']\n",
            "T-Values: ['0.1351', '-7.9941', '0.1351', '1.4364', '-0.1081', '0.0386', '0.2819', '-1.4515', '0.4008', '-0.6518', '-0.2217', '0.3776', '-0.6704', '-0.1336', '-0.7121', '1.8014', '-0.5923', '-0.4181', '0.6311', '0.1862', '-1.6562', '1.1267', '1.8837', '-1.8473', '1.3662', '2.8131', '0.7163', '-0.9210', '0.2611', '4.0279']\n",
            "P-Values: ['0.8925', '0.0000', '0.8925', '0.1510', '0.9139', '0.9692', '0.7780', '0.1467', '0.6886', '0.5146', '0.8245', '0.7057', '0.5027', '0.8937', '0.4764', '0.0717', '0.5537', '0.6759', '0.5280', '0.8523', '0.0978', '0.2599', '0.0597', '0.0648', '0.1719', '0.0049', '0.4738', '0.3571', '0.7941', '0.0001']\n"
          ]
        },
        {
          "name": "stderr",
          "output_type": "stream",
          "text": [
            "                                                                                \r"
          ]
        }
      ],
      "source": [
        "# Summary stats\n",
        "print(\"\\n--- Poly Summary ---\")\n",
        "print(\"Coefficient Standard Errors:\", [f\"{val:.4f}\" for val in poly_summary.coefficientStandardErrors])\n",
        "print(\"T-Values:\", [f\"{val:.4f}\" for val in poly_summary.tValues])\n",
        "print(\"P-Values:\", [f\"{val:.4f}\" for val in poly_summary.pValues])"
      ]
    },
    {
      "cell_type": "code",
      "execution_count": 17,
      "id": "3c78d733",
      "metadata": {},
      "outputs": [
        {
          "name": "stderr",
          "output_type": "stream",
          "text": [
            "[Stage 216:>                                                        (0 + 1) / 1]\r"
          ]
        },
        {
          "name": "stdout",
          "output_type": "stream",
          "text": [
            "Null Deviance: 2909123659016.3213\n",
            "Residual DF Null: 5038\n",
            "Deviance: 2244317022136.5864\n",
            "Residual DF: 5009\n"
          ]
        },
        {
          "name": "stderr",
          "output_type": "stream",
          "text": [
            "[Stage 227:>                                                        (0 + 1) / 1]\r"
          ]
        },
        {
          "name": "stdout",
          "output_type": "stream",
          "text": [
            "AIC: 114711.0237\n"
          ]
        },
        {
          "name": "stderr",
          "output_type": "stream",
          "text": [
            "                                                                                \r"
          ]
        }
      ],
      "source": [
        "# print(f\"\\nDispersion: {summary.dispersion:.4f}\")\n",
        "print(f\"Null Deviance: {poly_summary.nullDeviance:.4f}\")\n",
        "print(f\"Residual DF Null: {poly_summary.residualDegreeOfFreedomNull}\")\n",
        "print(f\"Deviance: {poly_summary.deviance:.4f}\")\n",
        "print(f\"Residual DF: {poly_summary.residualDegreeOfFreedom}\")\n",
        "print(f\"AIC: {poly_summary.aic:.4f}\")\n"
      ]
    },
    {
      "cell_type": "code",
      "execution_count": 18,
      "id": "91d9a055",
      "metadata": {},
      "outputs": [
        {
          "name": "stdout",
          "output_type": "stream",
          "text": [
            "--- This is a diagnostic check, no need to print in the final doc ---\n",
            "Length of features: 30\n",
            "Length of coefs: 30\n",
            "Length of se: 30\n",
            "Length of tvals: 30\n",
            "Length of pvals: 30\n"
          ]
        }
      ],
      "source": [
        "# 1. Pull feature names directly from Java backend\n",
        "feature_names = poly_summary._call_java(\"featureNames\")\n",
        "\n",
        "# 2. Construct full table including intercept\n",
        "poly_features = [\"Intercept\"] + list(feature_names)\n",
        "poly_coefs    = [poly_glr_max_years_model.intercept] + list(poly_glr_max_years_model.coefficients)\n",
        "poly_se       = list(poly_summary.coefficientStandardErrors)\n",
        "poly_tvals    = list(poly_summary.tValues)\n",
        "poly_pvals    = list(poly_summary.pValues)\n",
        "\n",
        "# (Optional) quick diagnostics\n",
        "print(\"--- This is a diagnostic check, no need to print in the final doc ---\")\n",
        "print(\"Length of features:\", len(poly_features))\n",
        "print(\"Length of coefs:\", len(poly_coefs))\n",
        "print(\"Length of se:\", len(poly_se))\n",
        "print(\"Length of tvals:\", len(poly_tvals))\n",
        "print(\"Length of pvals:\", len(poly_pvals))\n"
      ]
    },
    {
      "cell_type": "markdown",
      "id": "b438b28c",
      "metadata": {},
      "source": [
        "# 5.1 Polynomial Regression Summary"
      ]
    },
    {
      "cell_type": "code",
      "execution_count": 19,
      "id": "54feb10f",
      "metadata": {},
      "outputs": [
        {
          "data": {
            "text/html": [
              "<table border=\"1\" class=\"dataframe\">\n",
              "  <thead>\n",
              "    <tr style=\"text-align: right;\">\n",
              "      <th></th>\n",
              "      <th>Feature</th>\n",
              "      <th>Estimate</th>\n",
              "      <th>Std Error</th>\n",
              "      <th>t-stat</th>\n",
              "      <th>P-Value</th>\n",
              "    </tr>\n",
              "  </thead>\n",
              "  <tbody>\n",
              "    <tr>\n",
              "      <th>0</th>\n",
              "      <td>Intercept</td>\n",
              "      <td>87729.4985</td>\n",
              "      <td>22747.6805</td>\n",
              "      <td>0.1351</td>\n",
              "      <td>0.8925</td>\n",
              "    </tr>\n",
              "    <tr>\n",
              "      <th>1</th>\n",
              "      <td>MIN_YEARS_EXPERIENCE</td>\n",
              "      <td>3073.9396</td>\n",
              "      <td>36.5365</td>\n",
              "      <td>-7.9941</td>\n",
              "      <td>0.0000</td>\n",
              "    </tr>\n",
              "    <tr>\n",
              "      <th>2</th>\n",
              "      <td>MAX_YEARS_EXPERIENCE_SQ</td>\n",
              "      <td>-292.0763</td>\n",
              "      <td>22747.6805</td>\n",
              "      <td>0.1351</td>\n",
              "      <td>0.8925</td>\n",
              "    </tr>\n",
              "    <tr>\n",
              "      <th>3</th>\n",
              "      <td>MAX_YEARS_EXPERIENCE</td>\n",
              "      <td>3073.9396</td>\n",
              "      <td>20.5955</td>\n",
              "      <td>1.4364</td>\n",
              "      <td>0.1510</td>\n",
              "    </tr>\n",
              "    <tr>\n",
              "      <th>4</th>\n",
              "      <td>DURATION</td>\n",
              "      <td>29.5828</td>\n",
              "      <td>20846.6950</td>\n",
              "      <td>-0.1081</td>\n",
              "      <td>0.9139</td>\n",
              "    </tr>\n",
              "    <tr>\n",
              "      <th>5</th>\n",
              "      <td>EDUCATION_LEVELS_NAME_vec_\"Bachelor's degree\"</td>\n",
              "      <td>-2253.9775</td>\n",
              "      <td>20859.1237</td>\n",
              "      <td>0.0386</td>\n",
              "      <td>0.9692</td>\n",
              "    </tr>\n",
              "    <tr>\n",
              "      <th>6</th>\n",
              "      <td>EDUCATION_LEVELS_NAME_vec_\"No Education Listed\"</td>\n",
              "      <td>805.2130</td>\n",
              "      <td>20863.3147</td>\n",
              "      <td>0.2819</td>\n",
              "      <td>0.7780</td>\n",
              "    </tr>\n",
              "    <tr>\n",
              "      <th>7</th>\n",
              "      <td>EDUCATION_LEVELS_NAME_vec_\"Bachelor's degree\",  \"Master's degree\"</td>\n",
              "      <td>5881.4501</td>\n",
              "      <td>20971.9940</td>\n",
              "      <td>-1.4515</td>\n",
              "      <td>0.1467</td>\n",
              "    </tr>\n",
              "    <tr>\n",
              "      <th>8</th>\n",
              "      <td>EDUCATION_LEVELS_NAME_vec_\"High school or GED\",  \"Bachelor's degree\"</td>\n",
              "      <td>-30439.8972</td>\n",
              "      <td>20987.9155</td>\n",
              "      <td>0.4008</td>\n",
              "      <td>0.6886</td>\n",
              "    </tr>\n",
              "    <tr>\n",
              "      <th>9</th>\n",
              "      <td>EDUCATION_LEVELS_NAME_vec_\"Bachelor's degree\",  \"Master's degree\",  \"Ph.D. or professional degree\"</td>\n",
              "      <td>8412.8920</td>\n",
              "      <td>20990.0817</td>\n",
              "      <td>-0.6518</td>\n",
              "      <td>0.5146</td>\n",
              "    </tr>\n",
              "    <tr>\n",
              "      <th>10</th>\n",
              "      <td>EDUCATION_LEVELS_NAME_vec_\"High school or GED\"</td>\n",
              "      <td>-13680.3546</td>\n",
              "      <td>21019.8840</td>\n",
              "      <td>-0.2217</td>\n",
              "      <td>0.8245</td>\n",
              "    </tr>\n",
              "    <tr>\n",
              "      <th>11</th>\n",
              "      <td>EDUCATION_LEVELS_NAME_vec_\"Associate degree\",  \"Bachelor's degree\"</td>\n",
              "      <td>-4660.4367</td>\n",
              "      <td>21100.5976</td>\n",
              "      <td>0.3776</td>\n",
              "      <td>0.7057</td>\n",
              "    </tr>\n",
              "    <tr>\n",
              "      <th>12</th>\n",
              "      <td>EDUCATION_LEVELS_NAME_vec_\"Master's degree\"</td>\n",
              "      <td>7967.9560</td>\n",
              "      <td>21203.5634</td>\n",
              "      <td>-0.6704</td>\n",
              "      <td>0.5027</td>\n",
              "    </tr>\n",
              "    <tr>\n",
              "      <th>13</th>\n",
              "      <td>EDUCATION_LEVELS_NAME_vec_\"Associate degree\"</td>\n",
              "      <td>-14214.1229</td>\n",
              "      <td>21380.9216</td>\n",
              "      <td>-0.1336</td>\n",
              "      <td>0.8937</td>\n",
              "    </tr>\n",
              "    <tr>\n",
              "      <th>14</th>\n",
              "      <td>EDUCATION_LEVELS_NAME_vec_\"Associate degree\",  \"Bachelor's degree\",  \"Master's degree\"</td>\n",
              "      <td>-2857.2642</td>\n",
              "      <td>21419.1586</td>\n",
              "      <td>-0.7121</td>\n",
              "      <td>0.4764</td>\n",
              "    </tr>\n",
              "    <tr>\n",
              "      <th>15</th>\n",
              "      <td>EDUCATION_LEVELS_NAME_vec_\"Associate degree\",  \"Bachelor's degree\",  \"Master's degree\",  \"Ph.D. or professional degree\"</td>\n",
              "      <td>-15252.4114</td>\n",
              "      <td>21567.5225</td>\n",
              "      <td>1.8014</td>\n",
              "      <td>0.0717</td>\n",
              "    </tr>\n",
              "    <tr>\n",
              "      <th>16</th>\n",
              "      <td>EDUCATION_LEVELS_NAME_vec_\"Bachelor's degree\",  \"Ph.D. or professional degree\"</td>\n",
              "      <td>38851.8773</td>\n",
              "      <td>21793.5925</td>\n",
              "      <td>-0.5923</td>\n",
              "      <td>0.5537</td>\n",
              "    </tr>\n",
              "    <tr>\n",
              "      <th>17</th>\n",
              "      <td>EDUCATION_LEVELS_NAME_vec_\"High school or GED\",  \"Associate degree\",  \"Bachelor's degree\"</td>\n",
              "      <td>-12908.6915</td>\n",
              "      <td>21905.9591</td>\n",
              "      <td>-0.4181</td>\n",
              "      <td>0.6759</td>\n",
              "    </tr>\n",
              "    <tr>\n",
              "      <th>18</th>\n",
              "      <td>EDUCATION_LEVELS_NAME_vec_\"High school or GED\",  \"Bachelor's degree\",  \"Master's degree\"</td>\n",
              "      <td>-9159.5725</td>\n",
              "      <td>22009.1299</td>\n",
              "      <td>0.6311</td>\n",
              "      <td>0.5280</td>\n",
              "    </tr>\n",
              "    <tr>\n",
              "      <th>19</th>\n",
              "      <td>EDUCATION_LEVELS_NAME_vec_\"Master's degree\",  \"Ph.D. or professional degree\"</td>\n",
              "      <td>13889.7107</td>\n",
              "      <td>22150.2630</td>\n",
              "      <td>0.1862</td>\n",
              "      <td>0.8523</td>\n",
              "    </tr>\n",
              "    <tr>\n",
              "      <th>20</th>\n",
              "      <td>EDUCATION_LEVELS_NAME_vec_\"High school or GED\",  \"Associate degree\"</td>\n",
              "      <td>4123.7347</td>\n",
              "      <td>24166.2009</td>\n",
              "      <td>-1.6562</td>\n",
              "      <td>0.0978</td>\n",
              "    </tr>\n",
              "    <tr>\n",
              "      <th>21</th>\n",
              "      <td>EDUCATION_LEVELS_NAME_vec_\"High school or GED\",  \"Associate degree\",  \"Bachelor's degree\",  \"Master's degree\"</td>\n",
              "      <td>-40022.9996</td>\n",
              "      <td>24163.3570</td>\n",
              "      <td>1.1267</td>\n",
              "      <td>0.2599</td>\n",
              "    </tr>\n",
              "    <tr>\n",
              "      <th>22</th>\n",
              "      <td>EDUCATION_LEVELS_NAME_vec_\"Ph.D. or professional degree\"</td>\n",
              "      <td>27224.9060</td>\n",
              "      <td>3057.6640</td>\n",
              "      <td>1.8837</td>\n",
              "      <td>0.0597</td>\n",
              "    </tr>\n",
              "    <tr>\n",
              "      <th>23</th>\n",
              "      <td>EMPLOYMENT_TYPE_NAME_vec_Full-time (&gt; 32 hours)</td>\n",
              "      <td>5759.7671</td>\n",
              "      <td>3566.5832</td>\n",
              "      <td>-1.8473</td>\n",
              "      <td>0.0648</td>\n",
              "    </tr>\n",
              "    <tr>\n",
              "      <th>24</th>\n",
              "      <td>EMPLOYMENT_TYPE_NAME_vec_Part-time (â‰¤ 32 hours)</td>\n",
              "      <td>-6588.6707</td>\n",
              "      <td>2907.7548</td>\n",
              "      <td>1.3662</td>\n",
              "      <td>0.1719</td>\n",
              "    </tr>\n",
              "    <tr>\n",
              "      <th>25</th>\n",
              "      <td>REMOTE_TYPE_NAME_vec_[None]</td>\n",
              "      <td>3972.6485</td>\n",
              "      <td>2969.5007</td>\n",
              "      <td>2.8131</td>\n",
              "      <td>0.0049</td>\n",
              "    </tr>\n",
              "    <tr>\n",
              "      <th>26</th>\n",
              "      <td>REMOTE_TYPE_NAME_vec_Remote</td>\n",
              "      <td>8353.6157</td>\n",
              "      <td>3355.2443</td>\n",
              "      <td>0.7163</td>\n",
              "      <td>0.4738</td>\n",
              "    </tr>\n",
              "    <tr>\n",
              "      <th>27</th>\n",
              "      <td>REMOTE_TYPE_NAME_vec_Hybrid Remote</td>\n",
              "      <td>2403.5211</td>\n",
              "      <td>4582.4088</td>\n",
              "      <td>-0.9210</td>\n",
              "      <td>0.3571</td>\n",
              "    </tr>\n",
              "    <tr>\n",
              "      <th>28</th>\n",
              "      <td>IS_INTERNSHIP_vec_0</td>\n",
              "      <td>-4220.3464</td>\n",
              "      <td>821.4479</td>\n",
              "      <td>0.2611</td>\n",
              "      <td>0.7941</td>\n",
              "    </tr>\n",
              "    <tr>\n",
              "      <th>29</th>\n",
              "      <td>COMPANY_IS_STAFFING_vec_0</td>\n",
              "      <td>214.4410</td>\n",
              "      <td>21780.4771</td>\n",
              "      <td>4.0279</td>\n",
              "      <td>0.0001</td>\n",
              "    </tr>\n",
              "  </tbody>\n",
              "</table>"
            ],
            "text/plain": [
              "<IPython.core.display.HTML object>"
            ]
          },
          "execution_count": 19,
          "metadata": {},
          "output_type": "execute_result"
        }
      ],
      "source": [
        "import pandas as pd\n",
        "from tabulate import tabulate\n",
        "from IPython.display import HTML\n",
        "\n",
        "poly_coef_table = pd.DataFrame({\n",
        "    \"Feature\": poly_features,\n",
        "    \"Estimate\": [f\"{v:.4f}\" if v is not None else None for v in poly_coefs],\n",
        "    \"Std Error\": [f\"{v:.4f}\" if v is not None else None for v in poly_se],\n",
        "    \"t-stat\": [f\"{v:.4f}\" if v is not None else None for v in poly_tvals],\n",
        "    \"P-Value\": [f\"{v:.4f}\" if v is not None else None for v in poly_pvals]\n",
        "})\n",
        "\n",
        "# 4. Save for report\n",
        "poly_coef_table.to_csv(\"output/poly_summary.csv\", index=False)\n",
        "\n",
        "# 5. Optional pretty print\n",
        "HTML(poly_coef_table.to_html())\n"
      ]
    },
    {
      "cell_type": "markdown",
      "id": "82543c57",
      "metadata": {},
      "source": [
        "# Polymnomial Regression Model interpretation \n",
        "\n",
        "In my polynomial regression model, I added a squared term for experience to capture possible non-linear relationships between years of experience and salary. Each coefficient represents the change in predicted salary for a one-unit change in the feature, while holding others constant. Positive coefficients increase predicted salary, and negative ones decrease it.\n",
        "\n",
        "From the p-values, only a few predictors (with p < 0.05) are statistically significant, meaning they have a measurable impact on salary. The squared experience term helps the model adjust for cases where salary growth slows down or flattens after a certain number of years.\n",
        "\n",
        "Compared to the simple linear model, this polynomial version performs slightly better. Its RMSE decreased (≈ 21,640 vs 21,796) and (R)^2 increased (≈ 0.22 vs 0.21). This means the polynomial model explains a bit more of the variation in salary and produces smaller average errors, showing that including non-linear effects improves prediction accuracy."
      ]
    },
    {
      "cell_type": "markdown",
      "id": "b7b05965",
      "metadata": {},
      "source": [
        "# 6. Random Forest Regressor"
      ]
    },
    {
      "cell_type": "code",
      "execution_count": null,
      "id": "4955e0e9",
      "metadata": {},
      "outputs": [
        {
          "name": "stderr",
          "output_type": "stream",
          "text": [
            "25/10/05 21:37:05 WARN DAGScheduler: Broadcasting large task binary with size 1648.4 KiB\n",
            "25/10/05 21:37:06 WARN DAGScheduler: Broadcasting large task binary with size 2.6 MiB\n",
            "25/10/05 21:37:09 WARN DAGScheduler: Broadcasting large task binary with size 4.1 MiB\n",
            "25/10/05 21:37:12 WARN DAGScheduler: Broadcasting large task binary with size 6.1 MiB\n",
            "[Stage 276:>                                                        (0 + 1) / 1]\r"
          ]
        },
        {
          "name": "stdout",
          "output_type": "stream",
          "text": [
            "RandomForestRegressionModel: uid=RandomForestRegressor_db2304195fd6, numTrees=300, numFeatures=28\n",
            "Random Forest — RMSE: 20,944\n",
            "Random Forest — MAE : 14,451\n",
            "Random Forest — R²  : 0.271\n"
          ]
        },
        {
          "name": "stderr",
          "output_type": "stream",
          "text": [
            "                                                                                \r"
          ]
        }
      ],
      "source": [
        "# --- 6) Random Forest Regressor on split/regression_data\n",
        "from pyspark.ml.regression import RandomForestRegressor\n",
        "from pyspark.ml.evaluation import RegressionEvaluator\n",
        "\n",
        "rf = RandomForestRegressor(\n",
        "    featuresCol=\"features\",   # base features (not poly)\n",
        "    labelCol=\"SALARY\",\n",
        "    numTrees=300,             # within 100–500\n",
        "    maxDepth=8,               # within 4–10\n",
        "    subsamplingRate=0.8,\n",
        "    featureSubsetStrategy=\"auto\",\n",
        "    seed=42\n",
        ")\n",
        "\n",
        "rf_model = rf.fit(regression_train)\n",
        "rf_pred  = rf_model.transform(regression_test)\n",
        "\n",
        "rmse = RegressionEvaluator(metricName=\"rmse\", labelCol=\"SALARY\").evaluate(rf_pred)\n",
        "mae  = RegressionEvaluator(metricName=\"mae\",  labelCol=\"SALARY\").evaluate(rf_pred)\n",
        "r2   = RegressionEvaluator(metricName=\"r2\",   labelCol=\"SALARY\").evaluate(rf_pred)\n",
        "\n",
        "print(rf_model) \n",
        "print(f\"Random Forest — RMSE: {rmse:,.0f}\")\n",
        "print(f\"Random Forest — MAE : {mae:,.0f}\")\n",
        "print(f\"Random Forest — R²  : {r2:.3f}\")\n"
      ]
    },
    {
      "cell_type": "markdown",
      "id": "25bde9a8",
      "metadata": {},
      "source": [
        "# 6.1 Feature Importance Plot"
      ]
    },
    {
      "cell_type": "code",
      "execution_count": 21,
      "id": "bf5a871f",
      "metadata": {},
      "outputs": [
        {
          "data": {
            "image/png": "[encoded data removed]",
            "text/plain": [
              "<Figure size 900x500 with 1 Axes>"
            ]
          },
          "metadata": {},
          "output_type": "display_data"
        },
        {
          "data": {
            "text/html": [
              "<div>\n",
              "<style scoped>\n",
              "    .dataframe tbody tr th:only-of-type {\n",
              "        vertical-align: middle;\n",
              "    }\n",
              "\n",
              "    .dataframe tbody tr th {\n",
              "        vertical-align: top;\n",
              "    }\n",
              "\n",
              "    .dataframe thead th {\n",
              "        text-align: right;\n",
              "    }\n",
              "</style>\n",
              "<table border=\"1\" class=\"dataframe\">\n",
              "  <thead>\n",
              "    <tr style=\"text-align: right;\">\n",
              "      <th></th>\n",
              "      <th>feature</th>\n",
              "      <th>importance</th>\n",
              "    </tr>\n",
              "  </thead>\n",
              "  <tbody>\n",
              "    <tr>\n",
              "      <th>0</th>\n",
              "      <td>EDUCATION_LEVELS_NAME_vec_\"Bachelor's degree\"</td>\n",
              "      <td>0.302484</td>\n",
              "    </tr>\n",
              "    <tr>\n",
              "      <th>1</th>\n",
              "      <td>EDUCATION_LEVELS_NAME_vec_\"No Education Listed\"</td>\n",
              "      <td>0.213539</td>\n",
              "    </tr>\n",
              "    <tr>\n",
              "      <th>2</th>\n",
              "      <td>EDUCATION_LEVELS_NAME_vec_\"Bachelor's degree\",...</td>\n",
              "      <td>0.121585</td>\n",
              "    </tr>\n",
              "    <tr>\n",
              "      <th>6</th>\n",
              "      <td>EDUCATION_LEVELS_NAME_vec_\"Associate degree\", ...</td>\n",
              "      <td>0.067309</td>\n",
              "    </tr>\n",
              "    <tr>\n",
              "      <th>5</th>\n",
              "      <td>EDUCATION_LEVELS_NAME_vec_\"High school or GED\"</td>\n",
              "      <td>0.036985</td>\n",
              "    </tr>\n",
              "    <tr>\n",
              "      <th>22</th>\n",
              "      <td>REMOTE_TYPE_NAME_vec_Hybrid Remote</td>\n",
              "      <td>0.030161</td>\n",
              "    </tr>\n",
              "    <tr>\n",
              "      <th>3</th>\n",
              "      <td>EDUCATION_LEVELS_NAME_vec_\"High school or GED\"...</td>\n",
              "      <td>0.029165</td>\n",
              "    </tr>\n",
              "    <tr>\n",
              "      <th>21</th>\n",
              "      <td>REMOTE_TYPE_NAME_vec_Remote</td>\n",
              "      <td>0.025532</td>\n",
              "    </tr>\n",
              "    <tr>\n",
              "      <th>24</th>\n",
              "      <td>COMPANY_IS_STAFFING_vec_0</td>\n",
              "      <td>0.023729</td>\n",
              "    </tr>\n",
              "    <tr>\n",
              "      <th>14</th>\n",
              "      <td>EDUCATION_LEVELS_NAME_vec_\"Master's degree\",  ...</td>\n",
              "      <td>0.022501</td>\n",
              "    </tr>\n",
              "  </tbody>\n",
              "</table>\n",
              "</div>"
            ],
            "text/plain": [
              "                                              feature  importance\n",
              "0       EDUCATION_LEVELS_NAME_vec_\"Bachelor's degree\"    0.302484\n",
              "1     EDUCATION_LEVELS_NAME_vec_\"No Education Listed\"    0.213539\n",
              "2   EDUCATION_LEVELS_NAME_vec_\"Bachelor's degree\",...    0.121585\n",
              "6   EDUCATION_LEVELS_NAME_vec_\"Associate degree\", ...    0.067309\n",
              "5      EDUCATION_LEVELS_NAME_vec_\"High school or GED\"    0.036985\n",
              "22                 REMOTE_TYPE_NAME_vec_Hybrid Remote    0.030161\n",
              "3   EDUCATION_LEVELS_NAME_vec_\"High school or GED\"...    0.029165\n",
              "21                        REMOTE_TYPE_NAME_vec_Remote    0.025532\n",
              "24                          COMPANY_IS_STAFFING_vec_0    0.023729\n",
              "14  EDUCATION_LEVELS_NAME_vec_\"Master's degree\",  ...    0.022501"
            ]
          },
          "execution_count": 21,
          "metadata": {},
          "output_type": "execute_result"
        }
      ],
      "source": [
        "# Extract readable names from the features vector metadata\n",
        "import os\n",
        "import matplotlib.pyplot as plt\n",
        "import seaborn as sns\n",
        "\n",
        "meta = regression_train.schema[\"features\"].metadata\n",
        "names = []\n",
        "\n",
        "if \"ml_attr\" in meta and \"attrs\" in meta[\"ml_attr\"]:\n",
        "    attrs = meta[\"ml_attr\"][\"attrs\"]\n",
        "    # keep order by idx\n",
        "    for group in [\"binary\", \"numeric\"]:\n",
        "        if group in attrs:\n",
        "            names.extend([a.get(\"name\", f\"features[{a['idx']}]\")\n",
        "                          for a in sorted(attrs[group], key=lambda x: x[\"idx\"])])\n",
        "elif \"ml_attr\" in meta and \"num_attrs\" in meta[\"ml_attr\"]:\n",
        "    # only size is known\n",
        "    size = meta[\"ml_attr\"][\"num_attrs\"]\n",
        "    names = [f\"features[{i}]\" for i in range(size)]\n",
        "else:\n",
        "    # ultimate fallback\n",
        "    names = [f\"features[{i}]\" for i in range(rf_model.numFeatures)]\n",
        "\n",
        "# To make sure lengths align\n",
        "if len(names) != rf_model.numFeatures:\n",
        "    names = [f\"features[{i}]\" for i in range(rf_model.numFeatures)]\n",
        "\n",
        "# Build the top-10 table and plot\n",
        "importances = rf_model.featureImportances.toArray()\n",
        "imp_df = (pd.DataFrame({\"feature\": names, \"importance\": importances})\n",
        "            .sort_values(\"importance\", ascending=False)\n",
        "            .head(10))\n",
        "\n",
        "plt.figure(figsize=(9, 5))\n",
        "sns.barplot(data=imp_df, x=\"importance\", y=\"feature\")\n",
        "plt.title(\"Random Forest — Top 10 Feature Importances\")\n",
        "plt.xlabel(\"Importance\")\n",
        "plt.ylabel(\"Feature\")\n",
        "plt.tight_layout()\n",
        "plt.savefig(\"output/rf_feature_importance.png\", dpi=200)\n",
        "plt.show()\n",
        "plt.close()\n",
        "\n",
        "\n",
        "\n",
        "imp_df  # shows the names + scores"
      ]
    },
    {
      "cell_type": "markdown",
      "id": "8455854e",
      "metadata": {},
      "source": [
        "# Random Forest Model Interpretation \n",
        "\n",
        "In my Random Forest model, I used 300 trees with a maximum depth of 8 to capture complex patterns between the job features and salary. This model performed the best among all three models, with an RMSE of about $20,944 and an (R)^2 of 0.27, meaning it explains around 27% of the salary variation.\n",
        "\n",
        "The feature importance chart shows that education level has the biggest impact on predicted salary, especially Bachelor's degree and No Education Listed categories. Remote work type and staffing company indicators also contribute to the model but to a smaller degree. Overall, Random Forest captured non-linear relationships that the linear models missed, improving accuracy and providing clearer insights into which features drive salary differences.\n"
      ]
    },
    {
      "cell_type": "markdown",
      "id": "448c3557",
      "metadata": {},
      "source": [
        "# 7. Compare 3 Models – GLR, Polynomial, RF"
      ]
    },
    {
      "cell_type": "code",
      "execution_count": 22,
      "id": "ee30087d",
      "metadata": {},
      "outputs": [
        {
          "name": "stderr",
          "output_type": "stream",
          "text": [
            "                                                                                \r"
          ]
        }
      ],
      "source": [
        "# ==== STEP 7: Compare GLR (Linear), Polynomial, and Random Forest ====\n",
        "from pyspark.sql import functions as F\n",
        "from pyspark.ml.evaluation import RegressionEvaluator\n",
        "from pyspark.sql.functions import pow, col\n",
        "import numpy as np, pandas as pd, matplotlib.pyplot as plt, seaborn as sns, os\n",
        "\n",
        "# ------------- 1) Make predictions on the SAME test rows ----------------\n",
        "# GLR & RF can predict directly on regression_test\n",
        "glr_pred = glr_model.transform(regression_test) \\\n",
        "    .select(F.col(\"SALARY\"), F.col(\"prediction\").alias(\"pred_glr\"))\n",
        "\n",
        "rf_pred  = rf_model.transform(regression_test) \\\n",
        "    .select(F.col(\"SALARY\"), F.col(\"prediction\").alias(\"pred_rf\"))\n",
        "\n",
        "# For Polynomial: build `features_poly` on regression_test using existing assembler_poly\n",
        "reg_test_poly = (\n",
        "    regression_test\n",
        "    .withColumn(\"MAX_YEARS_EXPERIENCE_SQ\", pow(col(\"MAX_YEARS_EXPERIENCE\"), 2))\n",
        ")\n",
        "reg_test_poly = assembler_poly.transform(reg_test_poly)\n",
        "\n",
        "poly_pred = poly_glr_max_years_model.transform(reg_test_poly) \\\n",
        "    .select(F.col(\"SALARY\"), F.col(\"prediction\").alias(\"pred_poly\"))\n",
        "\n",
        "# Merge the three predictions for plotting later (all rows are from regression_test)\n",
        "pred_all = glr_pred.join(poly_pred, on=[\"SALARY\"]).join(rf_pred, on=[\"SALARY\"])\n",
        "\n",
        "# ------------- 2) Metrics: RMSE, MAE, R² ----------------\n",
        "def eval_metrics(df, label=\"SALARY\", pred_col=\"prediction\"):\n",
        "    e = RegressionEvaluator(labelCol=label, predictionCol=pred_col)\n",
        "    rmse = e.setMetricName(\"rmse\").evaluate(df.select(label, pred_col))\n",
        "    mae  = e.setMetricName(\"mae\").evaluate(df.select(label, pred_col))\n",
        "    r2   = e.setMetricName(\"r2\").evaluate(df.select(label, pred_col))\n",
        "    return rmse, mae, r2\n",
        "\n",
        "rmse_glr,  mae_glr,  r2_glr  = eval_metrics(glr_pred,  \"SALARY\", \"pred_glr\")\n",
        "rmse_poly, mae_poly, r2_poly = eval_metrics(poly_pred, \"SALARY\", \"pred_poly\")\n",
        "rmse_rf,   mae_rf,   r2_rf   = eval_metrics(rf_pred,   \"SALARY\", \"pred_rf\")\n",
        "\n",
        "# ------------- 3) AIC & BIC for linear models (RF has no likelihood) ----\n",
        "aic_glr  = float(glr_model.summary.aic)\n",
        "aic_poly = float(poly_glr_max_years_model.summary.aic)\n",
        "\n",
        "def calc_bic(summary, model, n_fallback=None):\n",
        "    # assignment formula\n",
        "    try:\n",
        "        n = summary.numInstances\n",
        "    except Exception:\n",
        "        n = n_fallback if n_fallback is not None else None\n",
        "    if n is None:\n",
        "        # safe fallback: count rows from the evaluation DF\n",
        "        n = glr_pred.count()\n",
        "    k = len(model.coefficients) + 1\n",
        "    dispersion = float(summary.dispersion)\n",
        "    deviance   = float(summary.deviance)\n",
        "    loglik = -0.5 * ( n * np.log(2*np.pi) + n * np.log(dispersion) + (deviance/dispersion) )\n",
        "    return k * np.log(n) - 2 * loglik\n",
        "\n",
        "bic_glr  = calc_bic(glr_model.summary,              glr_model,              n_fallback=glr_pred.count())\n",
        "bic_poly = calc_bic(poly_glr_max_years_model.summary, poly_glr_max_years_model, n_fallback=poly_pred.count())\n",
        "\n",
        "aic_rf, bic_rf = np.nan, np.nan\n",
        "\n"
      ]
    },
    {
      "cell_type": "code",
      "execution_count": 23,
      "id": "0fc71650",
      "metadata": {},
      "outputs": [
        {
          "data": {
            "text/html": [
              "<div>\n",
              "<style scoped>\n",
              "    .dataframe tbody tr th:only-of-type {\n",
              "        vertical-align: middle;\n",
              "    }\n",
              "\n",
              "    .dataframe tbody tr th {\n",
              "        vertical-align: top;\n",
              "    }\n",
              "\n",
              "    .dataframe thead th {\n",
              "        text-align: right;\n",
              "    }\n",
              "</style>\n",
              "<table border=\"1\" class=\"dataframe\">\n",
              "  <thead>\n",
              "    <tr style=\"text-align: right;\">\n",
              "      <th></th>\n",
              "      <th>Model</th>\n",
              "      <th>RMSE</th>\n",
              "      <th>MAE</th>\n",
              "      <th>R²</th>\n",
              "      <th>AIC</th>\n",
              "      <th>BIC</th>\n",
              "    </tr>\n",
              "  </thead>\n",
              "  <tbody>\n",
              "    <tr>\n",
              "      <th>0</th>\n",
              "      <td>GLR (Linear)</td>\n",
              "      <td>21796.247867</td>\n",
              "      <td>15335.765955</td>\n",
              "      <td>0.210636</td>\n",
              "      <td>114772.925815</td>\n",
              "      <td>114960.233511</td>\n",
              "    </tr>\n",
              "    <tr>\n",
              "      <th>1</th>\n",
              "      <td>Polynomial (LR)</td>\n",
              "      <td>21640.793285</td>\n",
              "      <td>15143.070367</td>\n",
              "      <td>0.221855</td>\n",
              "      <td>114711.023658</td>\n",
              "      <td>114904.862205</td>\n",
              "    </tr>\n",
              "    <tr>\n",
              "      <th>2</th>\n",
              "      <td>Random Forest</td>\n",
              "      <td>20944.299982</td>\n",
              "      <td>14451.278651</td>\n",
              "      <td>0.271137</td>\n",
              "      <td>NaN</td>\n",
              "      <td>NaN</td>\n",
              "    </tr>\n",
              "  </tbody>\n",
              "</table>\n",
              "</div>"
            ],
            "text/plain": [
              "             Model          RMSE           MAE        R²            AIC  \\\n",
              "0     GLR (Linear)  21796.247867  15335.765955  0.210636  114772.925815   \n",
              "1  Polynomial (LR)  21640.793285  15143.070367  0.221855  114711.023658   \n",
              "2    Random Forest  20944.299982  14451.278651  0.271137            NaN   \n",
              "\n",
              "             BIC  \n",
              "0  114960.233511  \n",
              "1  114904.862205  \n",
              "2            NaN  "
            ]
          },
          "metadata": {},
          "output_type": "display_data"
        },
        {
          "name": "stdout",
          "output_type": "stream",
          "text": [
            "Saved metrics to output/model_metrics.csv\n"
          ]
        }
      ],
      "source": [
        "# ------------- 4) Metrics table ----------------------------------------\n",
        "metrics_df = pd.DataFrame([\n",
        "    [\"GLR (Linear)\",     rmse_glr,  mae_glr,  r2_glr,  aic_glr,  bic_glr],\n",
        "    [\"Polynomial (LR)\",  rmse_poly, mae_poly, r2_poly, aic_poly, bic_poly],\n",
        "    [\"Random Forest\",    rmse_rf,   mae_rf,   r2_rf,   aic_rf,   bic_rf],\n",
        "], columns=[\"Model\",\"RMSE\",\"MAE\",\"R²\",\"AIC\",\"BIC\"])\n",
        "\n",
        "display(metrics_df)\n",
        "\n",
        "# Save metrics\n",
        "os.makedirs(\"output\", exist_ok=True)\n",
        "metrics_df.to_csv(\"output/model_metrics.csv\", index=False)\n",
        "print(\"Saved metrics to output/model_metrics.csv\")"
      ]
    },
    {
      "cell_type": "code",
      "execution_count": 25,
      "id": "13efdc21",
      "metadata": {},
      "outputs": [
        {
          "name": "stderr",
          "output_type": "stream",
          "text": [
            "                                                                                \r"
          ]
        },
        {
          "data": {
            "image/png": "[encoded data removed]",
            "text/plain": [
              "<Figure size 1200x1000 with 4 Axes>"
            ]
          },
          "metadata": {},
          "output_type": "display_data"
        },
        {
          "name": "stdout",
          "output_type": "stream",
          "text": [
            "Saved figure to: output/model_comparison_grid.png\n"
          ]
        }
      ],
      "source": [
        "# --- 2×2 grid: Actual vs Predicted for GLR, Polynomial, RF ---\n",
        "\n",
        "from pyspark.sql import functions as F\n",
        "import numpy as np\n",
        "import pandas as pd\n",
        "import matplotlib.pyplot as plt\n",
        "import seaborn as sns\n",
        "import os\n",
        "\n",
        "# small helper: convert a RANDOM SAMPLE from a Spark DF to pandas\n",
        "def to_pd_sample(df, n=6000, seed=42):\n",
        "    try:\n",
        "        return df.orderBy(F.rand(seed)).limit(n).toPandas()\n",
        "    except Exception:\n",
        "        rows = df.orderBy(F.rand(seed)).limit(n).collect()\n",
        "        return pd.DataFrame([r.asDict() for r in rows])\n",
        "\n",
        "# take lightweight samples for each model (no big joins to avoid the memory error)\n",
        "glr_pd  = to_pd_sample(glr_pred)      # has columns: SALARY, pred_glr\n",
        "poly_pd = to_pd_sample(poly_pred)     # has columns: SALARY, pred_poly\n",
        "rf_pd   = to_pd_sample(rf_pred)       # has columns: SALARY, pred_rf\n",
        "\n",
        "sns.set_theme()\n",
        "fig, axes = plt.subplots(2, 2, figsize=(12, 10))\n",
        "\n",
        "def scatter_actual_vs_pred(ax, df, pred_col, title):\n",
        "    ax.scatter(df[\"SALARY\"], df[pred_col], s=8, alpha=0.5)\n",
        "    lo = float(np.nanmin([df[\"SALARY\"].min(), df[pred_col].min()]))\n",
        "    hi = float(np.nanmax([df[\"SALARY\"].max(), df[pred_col].max()]))\n",
        "    ax.plot([lo, hi], [lo, hi], \"r--\", linewidth=1)  # 45° reference line\n",
        "    ax.set_title(title)\n",
        "    ax.set_xlabel(\"Actual Salary\")\n",
        "    ax.set_ylabel(\"Predicted Salary\")\n",
        "\n",
        "scatter_actual_vs_pred(axes[0,0], glr_pd,  \"pred_glr\",  \"GLR (Linear)\")\n",
        "scatter_actual_vs_pred(axes[0,1], poly_pd, \"pred_poly\", \"Polynomial (LR)\")\n",
        "scatter_actual_vs_pred(axes[1,0], rf_pd,   \"pred_rf\",   \"Random Forest\")\n",
        "\n",
        "# bottom-right: metrics table (uses from existing metrics_df)\n",
        "axes[1,1].axis(\"off\")\n",
        "tbl = axes[1,1].table(\n",
        "    cellText=np.round(metrics_df.set_index(\"Model\"), 3).values,\n",
        "    rowLabels=metrics_df[\"Model\"].values,\n",
        "    colLabels=metrics_df.columns[1:],\n",
        "    loc=\"center\"\n",
        ")\n",
        "tbl.auto_set_font_size(False)\n",
        "tbl.set_fontsize(9)\n",
        "tbl.scale(1.2, 1.2)\n",
        "\n",
        "fig.suptitle(\"Actual vs Predicted — GLR vs Polynomial vs Random Forest\", fontsize=14)\n",
        "fig.tight_layout()\n",
        "\n",
        "# save next to  metrics file\n",
        "os.makedirs(\"output\", exist_ok=True)\n",
        "fig.savefig(\"output/model_comparison_grid.png\", dpi=200)\n",
        "plt.show()\n",
        "\n",
        "print(\"Saved figure to: output/model_comparison_grid.png\")\n"
      ]
    },
    {
      "cell_type": "markdown",
      "id": "36257028",
      "metadata": {},
      "source": [
        "# Comparison of GLR, Polynomial, and Random Forest Models\n",
        "\n",
        "When comparing the three models, I found that the Random Forest performed the best overall. It had the lowest RMSE (≈ $20,944) and the highest (R)^2 (≈ 0.27), meaning it predicted salaries more accurately and explained more variation in the data.\n",
        "\n",
        "The Polynomial Regression slightly improved over the simple Linear Regression, showing that adding non-linear terms helped capture more complex salary patterns. However, both linear models still had higher errors and lower R² values compared to Random Forest.\n",
        "\n",
        "In the scatter plots, the Random Forest predictions are closer to the red diagonal line, which represents perfect predictions. Overall, I would choose the Random Forest model because it handles non-linear relationships better and gives more reliable predictions for salary.\n"
      ]
    },
    {
      "cell_type": "markdown",
      "id": "b44337e9",
      "metadata": {},
      "source": [
        "# 7.1 Calculating Log-Likelihood and BIC for PySpark Models"
      ]
    },
    {
      "cell_type": "code",
      "execution_count": 26,
      "id": "2380af82",
      "metadata": {},
      "outputs": [
        {
          "name": "stderr",
          "output_type": "stream",
          "text": [
            "                                                                                \r"
          ]
        },
        {
          "data": {
            "text/html": [
              "<div>\n",
              "<style scoped>\n",
              "    .dataframe tbody tr th:only-of-type {\n",
              "        vertical-align: middle;\n",
              "    }\n",
              "\n",
              "    .dataframe tbody tr th {\n",
              "        vertical-align: top;\n",
              "    }\n",
              "\n",
              "    .dataframe thead th {\n",
              "        text-align: right;\n",
              "    }\n",
              "</style>\n",
              "<table border=\"1\" class=\"dataframe\">\n",
              "  <thead>\n",
              "    <tr style=\"text-align: right;\">\n",
              "      <th></th>\n",
              "      <th>Model</th>\n",
              "      <th>RMSE</th>\n",
              "      <th>MAE</th>\n",
              "      <th>R²</th>\n",
              "      <th>AIC</th>\n",
              "      <th>BIC</th>\n",
              "      <th>LogLik</th>\n",
              "    </tr>\n",
              "  </thead>\n",
              "  <tbody>\n",
              "    <tr>\n",
              "      <th>0</th>\n",
              "      <td>GLR (Linear)</td>\n",
              "      <td>21796.247867</td>\n",
              "      <td>15335.765955</td>\n",
              "      <td>0.210636</td>\n",
              "      <td>114772.925815</td>\n",
              "      <td>114960.233511</td>\n",
              "      <td>-57356.504793</td>\n",
              "    </tr>\n",
              "    <tr>\n",
              "      <th>1</th>\n",
              "      <td>Polynomial (LR)</td>\n",
              "      <td>21640.793285</td>\n",
              "      <td>15143.070367</td>\n",
              "      <td>0.221855</td>\n",
              "      <td>114711.023658</td>\n",
              "      <td>114904.862205</td>\n",
              "      <td>-57324.556659</td>\n",
              "    </tr>\n",
              "    <tr>\n",
              "      <th>2</th>\n",
              "      <td>Random Forest</td>\n",
              "      <td>20944.299982</td>\n",
              "      <td>14451.278651</td>\n",
              "      <td>0.271137</td>\n",
              "      <td>NaN</td>\n",
              "      <td>—</td>\n",
              "      <td>—</td>\n",
              "    </tr>\n",
              "  </tbody>\n",
              "</table>\n",
              "</div>"
            ],
            "text/plain": [
              "             Model          RMSE           MAE        R²            AIC  \\\n",
              "0     GLR (Linear)  21796.247867  15335.765955  0.210636  114772.925815   \n",
              "1  Polynomial (LR)  21640.793285  15143.070367  0.221855  114711.023658   \n",
              "2    Random Forest  20944.299982  14451.278651  0.271137            NaN   \n",
              "\n",
              "             BIC        LogLik  \n",
              "0  114960.233511 -57356.504793  \n",
              "1  114904.862205 -57324.556659  \n",
              "2              —             —  "
            ]
          },
          "metadata": {},
          "output_type": "display_data"
        },
        {
          "name": "stdout",
          "output_type": "stream",
          "text": [
            "Updated metrics (with LogLik/BIC) saved to output/model_metrics.csv\n"
          ]
        }
      ],
      "source": [
        "# --- Log-Likelihood & BIC for GLR + Polynomial (Gaussian / identity) ---\n",
        "\n",
        "import numpy as np\n",
        "import pandas as pd\n",
        "\n",
        "def loglik_and_bic(summary, model, n_fallback):\n",
        "    \"\"\"\n",
        "    Compute log-likelihood and BIC using:\n",
        "      LL  = -0.5 * [ n*log(2π) + n*log(dispersion) + deviance/dispersion ]\n",
        "      BIC = k*log(n) - 2*LL\n",
        "    where k = (#coefficients + 1 for intercept)\n",
        "    \"\"\"\n",
        "    # n\n",
        "    try:\n",
        "        n = int(summary.numInstances)\n",
        "    except Exception:\n",
        "        n = int(n_fallback)\n",
        "\n",
        "    dispersion = float(summary.dispersion)\n",
        "    deviance   = float(summary.deviance)\n",
        "    k = len(model.coefficients) + 1\n",
        "\n",
        "    ll  = -0.5 * ( n * np.log(2*np.pi) + n * np.log(dispersion) + (deviance / dispersion) )\n",
        "    bic = k * np.log(n) - 2.0 * ll\n",
        "    return float(ll), float(bic)\n",
        "\n",
        "# counts for fallback n (from the evaluation frames already built)\n",
        "n_glr  = glr_pred.count()\n",
        "n_poly = poly_pred.count()\n",
        "\n",
        "# compute\n",
        "ll_glr,  bic_glr  = loglik_and_bic(glr_model.summary,               glr_model,               n_glr)\n",
        "ll_poly, bic_poly = loglik_and_bic(poly_glr_max_years_model.summary, poly_glr_max_years_model, n_poly)\n",
        "\n",
        "# add to  metrics table; keep RF as \"—\"\n",
        "metrics_df[\"LogLik\"] = [ll_glr, ll_poly, \"—\"]\n",
        "metrics_df[\"BIC\"]    = [bic_glr, bic_poly, \"—\"]  # overwrite/confirm BIC\n",
        "\n",
        "# tidy column order\n",
        "metrics_df = metrics_df[[\"Model\",\"RMSE\",\"MAE\",\"R²\",\"AIC\",\"BIC\",\"LogLik\"]]\n",
        "display(metrics_df)\n",
        "\n",
        "# (optional) save\n",
        "metrics_df.to_csv(\"output/model_metrics.csv\", index=False)\n",
        "print(\"Updated metrics (with LogLik/BIC) saved to output/model_metrics.csv\")\n"
      ]
    },
    {
      "cell_type": "markdown",
      "id": "13524334",
      "metadata": {},
      "source": [
        "# Interpretation of Log-Likelihood and BIC Results\n",
        "\n",
        "I calculated the Log-Likelihood and BIC values to assess how well each regression model fits the data while considering model complexity. The Log-Likelihood measures how probable the observed salaries are under the model such as larger (less negative) values indicate a better fit. The BIC penalizes models with too many parameters to avoid overfitting.\n",
        "\n",
        "In my results, the Polynomial model has a slightly higher Log-Likelihood (−57,324) and a lower BIC (114,904) compared to the Linear model (−57,356 and 114,960). This means the polynomial model fits the data a bit better and provides a more efficient balance between accuracy and simplicity.\n",
        "\n",
        "The Random Forest model doesn’t have a likelihood-based BIC because it’s not a probabilistic model, but its overall error metrics (RMSE and (R)^2) confirm it performs best in predicting salaries.\n",
        "\n",
        "Overall, the BIC and Log-Likelihood values support that the Polynomial regression slightly improves over the simple linear model, while Random Forest remains the strongest predictor among all three."
      ]
    }
  ],
  "metadata": {
    "kernelspec": {
      "display_name": ".venv",
      "language": "python",
      "name": "python3"
    },
    "language_info": {
      "codemirror_mode": {
        "name": "ipython",
        "version": 3
      },
      "file_extension": ".py",
      "mimetype": "text/x-python",
      "name": "python",
      "nbconvert_exporter": "python",
      "pygments_lexer": "ipython3",
      "version": "3.12.3"
    }
  },
  "nbformat": 4,
  "nbformat_minor": 5
}
