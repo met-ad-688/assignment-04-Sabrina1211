{
  "cells": [
    {
      "cell_type": "markdown",
      "id": "aa3718fd-8824-4d2d-914d-9af230455e0a",
      "metadata": {},
      "source": [
        "# Assignment 04\n",
        "\n",
        "Sabrina Minaya Vasquez (Boston University)  \n",
        "October 8, 2025\n",
        "\n",
        "# 1. Load Dataset"
      ]
    },
    {
      "cell_type": "code",
      "execution_count": 91,
      "id": "72c9be57",
      "metadata": {},
      "outputs": [
        {
          "name": "stderr",
          "output_type": "stream",
          "text": [
            "[Stage 698:>                                                        (0 + 1) / 1]\r"
          ]
        },
        {
          "name": "stdout",
          "output_type": "stream",
          "text": [
            "---This is Diagnostic check, No need to print it in the final doc---\n",
            "+--------------------+-----------------+----------------------+----------+--------+---------+--------+--------------------+--------------------+--------------------+-----------+-------------------+--------------------+--------------------+---------------+----------------+--------+--------------------+-----------+-------------------+----------------+---------------------+-------------+-------------------+-------------+------------------+---------------+--------------------+--------------------+--------------------+-------------+------+-----------+----------------+-------------------+---------+-----------+--------------------+--------------------+-------------+------+--------------+-----+--------------------+-----+----------+---------------+--------------------+---------------+--------------------+------------+--------------------+------------+--------------------+------+--------------------+------+--------------------+------+--------------------+------+--------------------+------+--------------------+------------------+-------------------+--------------------+--------------------+--------------------+--------------------+-----------------------+--------------------+--------------------+--------------------+--------------------+--------------------+--------------------+----------+--------------------+----------+--------------------+--------------------+--------------------+--------------------+--------------------+--------------------+--------------------+----------+--------------------+----------+--------------------+----------+---------------+----------+---------------+---------------+--------------------+--------------+--------------------+--------------------------+-------------------------------+--------------------+-------------------------+-----------------------------+----------------------------------+-----------------+----------------------+-----------------------+----------------------------+------------------+-----------------------+-------+--------------------+-------+--------------------+-------+---------------+-------+---------------+-----------------+----------------------+------------+--------------------+------------+--------------------+------------+--------------------+------------+--------------------+------------+--------------------+\n",
            "|                  ID|LAST_UPDATED_DATE|LAST_UPDATED_TIMESTAMP|DUPLICATES|  POSTED|  EXPIRED|DURATION|        SOURCE_TYPES|             SOURCES|                 URL|ACTIVE_URLS|ACTIVE_SOURCES_INFO|           TITLE_RAW|                BODY|MODELED_EXPIRED|MODELED_DURATION| COMPANY|        COMPANY_NAME|COMPANY_RAW|COMPANY_IS_STAFFING|EDUCATION_LEVELS|EDUCATION_LEVELS_NAME|MIN_EDULEVELS| MIN_EDULEVELS_NAME|MAX_EDULEVELS|MAX_EDULEVELS_NAME|EMPLOYMENT_TYPE|EMPLOYMENT_TYPE_NAME|MIN_YEARS_EXPERIENCE|MAX_YEARS_EXPERIENCE|IS_INTERNSHIP|SALARY|REMOTE_TYPE|REMOTE_TYPE_NAME|ORIGINAL_PAY_PERIOD|SALARY_TO|SALARY_FROM|            LOCATION|                CITY|    CITY_NAME|COUNTY|   COUNTY_NAME|  MSA|            MSA_NAME|STATE|STATE_NAME|COUNTY_OUTGOING|COUNTY_NAME_OUTGOING|COUNTY_INCOMING|COUNTY_NAME_INCOMING|MSA_OUTGOING|   MSA_NAME_OUTGOING|MSA_INCOMING|   MSA_NAME_INCOMING|NAICS2|         NAICS2_NAME|NAICS3|         NAICS3_NAME|NAICS4|         NAICS4_NAME|NAICS5|         NAICS5_NAME|NAICS6|         NAICS6_NAME|             TITLE|         TITLE_NAME|         TITLE_CLEAN|              SKILLS|         SKILLS_NAME|  SPECIALIZED_SKILLS|SPECIALIZED_SKILLS_NAME|      CERTIFICATIONS| CERTIFICATIONS_NAME|       COMMON_SKILLS|  COMMON_SKILLS_NAME|     SOFTWARE_SKILLS|SOFTWARE_SKILLS_NAME|      ONET|           ONET_NAME| ONET_2019|      ONET_2019_NAME|                CIP6|           CIP6_NAME|                CIP4|           CIP4_NAME|                CIP2|           CIP2_NAME|SOC_2021_2|     SOC_2021_2_NAME|SOC_2021_3|     SOC_2021_3_NAME|SOC_2021_4|SOC_2021_4_NAME|SOC_2021_5|SOC_2021_5_NAME|LOT_CAREER_AREA|LOT_CAREER_AREA_NAME|LOT_OCCUPATION| LOT_OCCUPATION_NAME|LOT_SPECIALIZED_OCCUPATION|LOT_SPECIALIZED_OCCUPATION_NAME|LOT_OCCUPATION_GROUP|LOT_OCCUPATION_GROUP_NAME|LOT_V6_SPECIALIZED_OCCUPATION|LOT_V6_SPECIALIZED_OCCUPATION_NAME|LOT_V6_OCCUPATION|LOT_V6_OCCUPATION_NAME|LOT_V6_OCCUPATION_GROUP|LOT_V6_OCCUPATION_GROUP_NAME|LOT_V6_CAREER_AREA|LOT_V6_CAREER_AREA_NAME|  SOC_2|          SOC_2_NAME|  SOC_3|          SOC_3_NAME|  SOC_4|     SOC_4_NAME|  SOC_5|     SOC_5_NAME|LIGHTCAST_SECTORS|LIGHTCAST_SECTORS_NAME|NAICS_2022_2|   NAICS_2022_2_NAME|NAICS_2022_3|   NAICS_2022_3_NAME|NAICS_2022_4|   NAICS_2022_4_NAME|NAICS_2022_5|   NAICS_2022_5_NAME|NAICS_2022_6|   NAICS_2022_6_NAME|\n",
            "+--------------------+-----------------+----------------------+----------+--------+---------+--------+--------------------+--------------------+--------------------+-----------+-------------------+--------------------+--------------------+---------------+----------------+--------+--------------------+-----------+-------------------+----------------+---------------------+-------------+-------------------+-------------+------------------+---------------+--------------------+--------------------+--------------------+-------------+------+-----------+----------------+-------------------+---------+-----------+--------------------+--------------------+-------------+------+--------------+-----+--------------------+-----+----------+---------------+--------------------+---------------+--------------------+------------+--------------------+------------+--------------------+------+--------------------+------+--------------------+------+--------------------+------+--------------------+------+--------------------+------------------+-------------------+--------------------+--------------------+--------------------+--------------------+-----------------------+--------------------+--------------------+--------------------+--------------------+--------------------+--------------------+----------+--------------------+----------+--------------------+--------------------+--------------------+--------------------+--------------------+--------------------+--------------------+----------+--------------------+----------+--------------------+----------+---------------+----------+---------------+---------------+--------------------+--------------+--------------------+--------------------------+-------------------------------+--------------------+-------------------------+-----------------------------+----------------------------------+-----------------+----------------------+-----------------------+----------------------------+------------------+-----------------------+-------+--------------------+-------+--------------------+-------+---------------+-------+---------------+-----------------+----------------------+------------+--------------------+------------+--------------------+------------+--------------------+------------+--------------------+------------+--------------------+\n",
            "|1f57d95acf4dc67ed...|         9/6/2024|  2024-09-06 20:32:...|         0|6/2/2024| 6/8/2024|       6|   [\\n  \"Company\"\\n]|[\\n  \"brassring.c...|[\\n  \"https://sjo...|         []|               NULL|Enterprise Analys...|31-May-2024\\n\\nEn...|       6/8/2024|               6|  894731|          Murphy USA| Murphy USA|              false|       [\\n  2\\n]| [\\n  \"Bachelor's ...|            2|  Bachelor's degree|         NULL|              NULL|              1|Full-time (> 32 h...|                   2|                   2|        false|  NULL|          0|          [None]|               NULL|     NULL|       NULL|{\\n  \"lat\": 33.20...|RWwgRG9yYWRvLCBBUg==|El Dorado, AR|  5139|     Union, AR|20980|       El Dorado, AR|    5|  Arkansas|           5139|           Union, AR|           5139|           Union, AR|       20980|       El Dorado, AR|       20980|       El Dorado, AR|    44|        Retail Trade|   441|Motor Vehicle and...|  4413|Automotive Parts,...| 44133|Automotive Parts ...|441330|Automotive Parts ...|ET29C073C03D1F86B4|Enterprise Analysts|enterprise analys...|[\\n  \"KS126DB6T06...|[\\n  \"Merchandisi...|[\\n  \"KS126DB6T06...|   [\\n  \"Merchandisi...|                  []|                  []|[\\n  \"KS126706DPF...|[\\n  \"Mathematics...|[\\n  \"KS440W865GC...|[\\n  \"SQL (Progra...|15-2051.01|Business Intellig...|15-2051.01|Business Intellig...|[\\n  \"45.0601\",\\n...|[\\n  \"Economics, ...|[\\n  \"45.06\",\\n  ...|[\\n  \"Economics\",...|[\\n  \"45\",\\n  \"27...|[\\n  \"Social Scie...|   15-0000|Computer and Math...|   15-2000|Mathematical Scie...|   15-2050|Data Scientists|   15-2051|Data Scientists|             23|Information Techn...|        231010|Business Intellig...|                  23101011|           General ERP Analy...|                2310|     Business Intellig...|                     23101011|              General ERP Analy...|           231010|  Business Intellig...|                   2310|        Business Intellig...|                23|   Information Techn...|15-0000|Computer and Math...|15-2000|Mathematical Scie...|15-2050|Data Scientists|15-2051|Data Scientists|        [\\n  7\\n]|  [\\n  \"Artificial ...|          44|        Retail Trade|         441|Motor Vehicle and...|        4413|Automotive Parts,...|       44133|Automotive Parts ...|      441330|Automotive Parts ...|\n",
            "|0cb072af26757b6c4...|         8/2/2024|  2024-08-02 17:08:...|         0|6/2/2024| 8/1/2024|    NULL| [\\n  \"Job Board\"\\n]| [\\n  \"maine.gov\"\\n]|[\\n  \"https://job...|         []|               NULL|Oracle Consultant...|Oracle Consultant...|       8/1/2024|            NULL|  133098|Smx Corporation L...|        SMX|               true|      [\\n  99\\n]| [\\n  \"No Educatio...|           99|No Education Listed|         NULL|              NULL|              1|Full-time (> 32 h...|                   3|                   3|        false|  NULL|          1|          Remote|               NULL|     NULL|       NULL|{\\n  \"lat\": 44.31...|    QXVndXN0YSwgTUU=|  Augusta, ME| 23011|  Kennebec, ME|12300|Augusta-Watervill...|   23|     Maine|          23011|        Kennebec, ME|          23011|        Kennebec, ME|       12300|Augusta-Watervill...|       12300|Augusta-Watervill...|    56|Administrative an...|   561|Administrative an...|  5613| Employment Services| 56132|Temporary Help Se...|561320|Temporary Help Se...|ET21DDA63780A7DC09| Oracle Consultants|oracle consultant...|[\\n  \"KS122626T55...|[\\n  \"Procurement...|[\\n  \"KS122626T55...|   [\\n  \"Procurement...|                  []|                  []|                  []|                  []|[\\n  \"BGSBF3F508F...|[\\n  \"Oracle Busi...|15-2051.01|Business Intellig...|15-2051.01|Business Intellig...|                  []|                  []|                  []|                  []|                  []|                  []|   15-0000|Computer and Math...|   15-2000|Mathematical Scie...|   15-2050|Data Scientists|   15-2051|Data Scientists|             23|Information Techn...|        231010|Business Intellig...|                  23101012|           Oracle Consultant...|                2310|     Business Intellig...|                     23101012|              Oracle Consultant...|           231010|  Business Intellig...|                   2310|        Business Intellig...|                23|   Information Techn...|15-0000|Computer and Math...|15-2000|Mathematical Scie...|15-2050|Data Scientists|15-2051|Data Scientists|             NULL|                  NULL|          56|Administrative an...|         561|Administrative an...|        5613| Employment Services|       56132|Temporary Help Se...|      561320|Temporary Help Se...|\n",
            "|85318b12b3331fa49...|         9/6/2024|  2024-09-06 20:32:...|         1|6/2/2024| 7/7/2024|      35| [\\n  \"Job Board\"\\n]|[\\n  \"dejobs.org\"\\n]|[\\n  \"https://dej...|         []|               NULL|        Data Analyst|Taking care of pe...|      6/10/2024|               8|39063746|            Sedgwick|   Sedgwick|              false|       [\\n  2\\n]| [\\n  \"Bachelor's ...|            2|  Bachelor's degree|         NULL|              NULL|              1|Full-time (> 32 h...|                   5|                NULL|        false|  NULL|          0|          [None]|               NULL|     NULL|       NULL|{\\n  \"lat\": 32.77...|    RGFsbGFzLCBUWA==|   Dallas, TX| 48113|    Dallas, TX|19100|Dallas-Fort Worth...|   48|     Texas|          48113|          Dallas, TX|          48113|          Dallas, TX|       19100|Dallas-Fort Worth...|       19100|Dallas-Fort Worth...|    52|Finance and Insur...|   524|Insurance Carrier...|  5242|Agencies, Brokera...| 52429|Other Insurance R...|524291|    Claims Adjusting|ET3037E0C947A02404|      Data Analysts|        data analyst|[\\n  \"KS1218W78FG...|[\\n  \"Management\"...|[\\n  \"ESF3939CE1F...|   [\\n  \"Exception R...|[\\n  \"KS683TN76T7...|[\\n  \"Security Cl...|[\\n  \"KS1218W78FG...|[\\n  \"Management\"...|[\\n  \"KS126HY6YLT...|[\\n  \"Microsoft O...|15-2051.01|Business Intellig...|15-2051.01|Business Intellig...|                  []|                  []|                  []|                  []|                  []|                  []|   15-0000|Computer and Math...|   15-2000|Mathematical Scie...|   15-2050|Data Scientists|   15-2051|Data Scientists|             23|Information Techn...|        231113|Data / Data Minin...|                  23111310|                   Data Analyst|                2311|     Data Analysis and...|                     23111310|                      Data Analyst|           231113|  Data / Data Minin...|                   2311|        Data Analysis and...|                23|   Information Techn...|15-0000|Computer and Math...|15-2000|Mathematical Scie...|15-2050|Data Scientists|15-2051|Data Scientists|             NULL|                  NULL|          52|Finance and Insur...|         524|Insurance Carrier...|        5242|Agencies, Brokera...|       52429|Other Insurance R...|      524291|    Claims Adjusting|\n",
            "|1b5c3941e54a1889e...|         9/6/2024|  2024-09-06 20:32:...|         1|6/2/2024|7/20/2024|      48| [\\n  \"Job Board\"\\n]|[\\n  \"disabledper...|[\\n  \"https://www...|         []|               NULL|Sr. Lead Data Mgm...|About this role:\\...|      6/12/2024|              10|37615159|         Wells Fargo|Wells Fargo|              false|      [\\n  99\\n]| [\\n  \"No Educatio...|           99|No Education Listed|         NULL|              NULL|              1|Full-time (> 32 h...|                   3|                NULL|        false|  NULL|          0|          [None]|               NULL|     NULL|       NULL|{\\n  \"lat\": 33.44...|    UGhvZW5peCwgQVo=|  Phoenix, AZ|  4013|  Maricopa, AZ|38060|Phoenix-Mesa-Chan...|    4|   Arizona|           4013|        Maricopa, AZ|           4013|        Maricopa, AZ|       38060|Phoenix-Mesa-Chan...|       38060|Phoenix-Mesa-Chan...|    52|Finance and Insur...|   522|Credit Intermedia...|  5221|Depository Credit...| 52211|  Commercial Banking|522110|  Commercial Banking|ET2114E0404BA30075|Management Analysts|sr lead data mgmt...|[\\n  \"KS123QX62QY...|[\\n  \"Exit Strate...|[\\n  \"KS123QX62QY...|   [\\n  \"Exit Strate...|                  []|                  []|[\\n  \"KS7G6NP6R6L...|[\\n  \"Reliability...|[\\n  \"KS4409D76NW...|[\\n  \"SAS (Softwa...|15-2051.01|Business Intellig...|15-2051.01|Business Intellig...|                  []|                  []|                  []|                  []|                  []|                  []|   15-0000|Computer and Math...|   15-2000|Mathematical Scie...|   15-2050|Data Scientists|   15-2051|Data Scientists|             23|Information Techn...|        231113|Data / Data Minin...|                  23111310|                   Data Analyst|                2311|     Data Analysis and...|                     23111310|                      Data Analyst|           231113|  Data / Data Minin...|                   2311|        Data Analysis and...|                23|   Information Techn...|15-0000|Computer and Math...|15-2000|Mathematical Scie...|15-2050|Data Scientists|15-2051|Data Scientists|        [\\n  6\\n]|  [\\n  \"Data Privac...|          52|Finance and Insur...|         522|Credit Intermedia...|        5221|Depository Credit...|       52211|  Commercial Banking|      522110|  Commercial Banking|\n",
            "|cb5ca25f02bdf25c1...|        6/19/2024|   2024-06-19 07:00:00|         0|6/2/2024|6/17/2024|      15|[\\n  \"FreeJobBoar...|[\\n  \"craigslist....|[\\n  \"https://mod...|         []|               NULL|Comisiones de $10...|Comisiones de $10...|      6/17/2024|              15|       0|        Unclassified|      LH/GM|              false|      [\\n  99\\n]| [\\n  \"No Educatio...|           99|No Education Listed|         NULL|              NULL|              3|Part-time / full-...|                NULL|                NULL|        false| 92500|          0|          [None]|               year|   150000|      35000|{\\n  \"lat\": 37.63...|    TW9kZXN0bywgQ0E=|  Modesto, CA|  6099|Stanislaus, CA|33700|         Modesto, CA|    6|California|           6099|      Stanislaus, CA|           6099|      Stanislaus, CA|       33700|         Modesto, CA|       33700|         Modesto, CA|    99|Unclassified Indu...|   999|Unclassified Indu...|  9999|Unclassified Indu...| 99999|Unclassified Indu...|999999|Unclassified Indu...|ET0000000000000000|       Unclassified|comisiones de por...|                  []|                  []|                  []|                     []|                  []|                  []|                  []|                  []|                  []|                  []|15-2051.01|Business Intellig...|15-2051.01|Business Intellig...|                  []|                  []|                  []|                  []|                  []|                  []|   15-0000|Computer and Math...|   15-2000|Mathematical Scie...|   15-2050|Data Scientists|   15-2051|Data Scientists|             23|Information Techn...|        231010|Business Intellig...|                  23101012|           Oracle Consultant...|                2310|     Business Intellig...|                     23101012|              Oracle Consultant...|           231010|  Business Intellig...|                   2310|        Business Intellig...|                23|   Information Techn...|15-0000|Computer and Math...|15-2000|Mathematical Scie...|15-2050|Data Scientists|15-2051|Data Scientists|             NULL|                  NULL|          99|Unclassified Indu...|         999|Unclassified Indu...|        9999|Unclassified Indu...|       99999|Unclassified Indu...|      999999|Unclassified Indu...|\n",
            "+--------------------+-----------------+----------------------+----------+--------+---------+--------+--------------------+--------------------+--------------------+-----------+-------------------+--------------------+--------------------+---------------+----------------+--------+--------------------+-----------+-------------------+----------------+---------------------+-------------+-------------------+-------------+------------------+---------------+--------------------+--------------------+--------------------+-------------+------+-----------+----------------+-------------------+---------+-----------+--------------------+--------------------+-------------+------+--------------+-----+--------------------+-----+----------+---------------+--------------------+---------------+--------------------+------------+--------------------+------------+--------------------+------+--------------------+------+--------------------+------+--------------------+------+--------------------+------+--------------------+------------------+-------------------+--------------------+--------------------+--------------------+--------------------+-----------------------+--------------------+--------------------+--------------------+--------------------+--------------------+--------------------+----------+--------------------+----------+--------------------+--------------------+--------------------+--------------------+--------------------+--------------------+--------------------+----------+--------------------+----------+--------------------+----------+---------------+----------+---------------+---------------+--------------------+--------------+--------------------+--------------------------+-------------------------------+--------------------+-------------------------+-----------------------------+----------------------------------+-----------------+----------------------+-----------------------+----------------------------+------------------+-----------------------+-------+--------------------+-------+--------------------+-------+---------------+-------+---------------+-----------------+----------------------+------------+--------------------+------------+--------------------+------------+--------------------+------------+--------------------+------------+--------------------+\n",
            "only showing top 5 rows\n",
            "\n"
          ]
        },
        {
          "name": "stderr",
          "output_type": "stream",
          "text": [
            "                                                                                \r"
          ]
        }
      ],
      "source": [
        "from pyspark.sql import SparkSession\n",
        "import pandas as pd\n",
        "import plotly.express as px\n",
        "import plotly.io as pio\n",
        "import numpy as np\n",
        "\n",
        "np.random.seed(42)\n",
        "\n",
        "pio.renderers.default = \"notebook+notebook_connected+vscode\"\n",
        "\n",
        "# Initialize Spark Session\n",
        "spark = SparkSession.builder.appName(\"LightcastData\").getOrCreate()\n",
        "\n",
        "# Load Data\n",
        "df = spark.read.option(\"header\", \"true\").option(\"inferSchema\", \"true\").option(\"multiLine\",\"true\").option(\"escape\", \"\\\"\").csv(\"/home/ubuntu/assignment-04-Sabrina1211/data/lightcast_job_postings.csv\")\n",
        "\n",
        "# Show Schema and Sample Data\n",
        "print(\"---This is Diagnostic check, No need to print it in the final doc---\")\n",
        "\n",
        "# df.printSchema() # comment this line when rendering the submission\n",
        "df.show(5)"
      ]
    },
    {
      "cell_type": "code",
      "execution_count": 92,
      "id": "808931bd",
      "metadata": {},
      "outputs": [
        {
          "name": "stderr",
          "output_type": "stream",
          "text": [
            "                                                                                \r"
          ]
        },
        {
          "name": "stdout",
          "output_type": "stream",
          "text": [
            "+--------------------+---------------+--------------------+-----------------+----------------------+----------+--------+---------+--------+--------------------+--------------------+--------------------+-----------+-------------------+--------------------+--------------------+---------------+----------------+--------+--------------------+-----------+-------------------+----------------+---------------------+-------------+-------------------+-------------+------------------+--------------------+--------------------+-------------+--------+-----------+----------------+-------------------+---------+-----------+--------------------+--------------------+-------------+------+--------------+-----+--------------------+-----+----------+---------------+--------------------+---------------+--------------------+------------+--------------------+------------+--------------------+------+--------------------+------+--------------------+------+--------------------+------+--------------------+------+--------------------+------------------+-------------------+--------------------+--------------------+--------------------+--------------------+-----------------------+--------------------+--------------------+--------------------+--------------------+--------------------+--------------------+----------+--------------------+----------+--------------------+--------------------+--------------------+--------------------+--------------------+--------------------+--------------------+----------+--------------------+----------+--------------------+----------+---------------+----------+---------------+---------------+--------------------+--------------+--------------------+--------------------------+-------------------------------+--------------------+-------------------------+-----------------------------+----------------------------------+-----------------+----------------------+-----------------------+----------------------------+------------------+-----------------------+-------+--------------------+-------+--------------------+-------+---------------+-------+---------------+-----------------+----------------------+------------+--------------------+------------+--------------------+------------+--------------------+------------+--------------------+------------+--------------------+----------------------+---------------------------+\n",
            "|EMPLOYMENT_TYPE_NAME|EMPLOYMENT_TYPE|                  ID|LAST_UPDATED_DATE|LAST_UPDATED_TIMESTAMP|DUPLICATES|  POSTED|  EXPIRED|DURATION|        SOURCE_TYPES|             SOURCES|                 URL|ACTIVE_URLS|ACTIVE_SOURCES_INFO|           TITLE_RAW|                BODY|MODELED_EXPIRED|MODELED_DURATION| COMPANY|        COMPANY_NAME|COMPANY_RAW|COMPANY_IS_STAFFING|EDUCATION_LEVELS|EDUCATION_LEVELS_NAME|MIN_EDULEVELS| MIN_EDULEVELS_NAME|MAX_EDULEVELS|MAX_EDULEVELS_NAME|MIN_YEARS_EXPERIENCE|MAX_YEARS_EXPERIENCE|IS_INTERNSHIP|  SALARY|REMOTE_TYPE|REMOTE_TYPE_NAME|ORIGINAL_PAY_PERIOD|SALARY_TO|SALARY_FROM|            LOCATION|                CITY|    CITY_NAME|COUNTY|   COUNTY_NAME|  MSA|            MSA_NAME|STATE|STATE_NAME|COUNTY_OUTGOING|COUNTY_NAME_OUTGOING|COUNTY_INCOMING|COUNTY_NAME_INCOMING|MSA_OUTGOING|   MSA_NAME_OUTGOING|MSA_INCOMING|   MSA_NAME_INCOMING|NAICS2|         NAICS2_NAME|NAICS3|         NAICS3_NAME|NAICS4|         NAICS4_NAME|NAICS5|         NAICS5_NAME|NAICS6|         NAICS6_NAME|             TITLE|         TITLE_NAME|         TITLE_CLEAN|              SKILLS|         SKILLS_NAME|  SPECIALIZED_SKILLS|SPECIALIZED_SKILLS_NAME|      CERTIFICATIONS| CERTIFICATIONS_NAME|       COMMON_SKILLS|  COMMON_SKILLS_NAME|     SOFTWARE_SKILLS|SOFTWARE_SKILLS_NAME|      ONET|           ONET_NAME| ONET_2019|      ONET_2019_NAME|                CIP6|           CIP6_NAME|                CIP4|           CIP4_NAME|                CIP2|           CIP2_NAME|SOC_2021_2|     SOC_2021_2_NAME|SOC_2021_3|     SOC_2021_3_NAME|SOC_2021_4|SOC_2021_4_NAME|SOC_2021_5|SOC_2021_5_NAME|LOT_CAREER_AREA|LOT_CAREER_AREA_NAME|LOT_OCCUPATION| LOT_OCCUPATION_NAME|LOT_SPECIALIZED_OCCUPATION|LOT_SPECIALIZED_OCCUPATION_NAME|LOT_OCCUPATION_GROUP|LOT_OCCUPATION_GROUP_NAME|LOT_V6_SPECIALIZED_OCCUPATION|LOT_V6_SPECIALIZED_OCCUPATION_NAME|LOT_V6_OCCUPATION|LOT_V6_OCCUPATION_NAME|LOT_V6_OCCUPATION_GROUP|LOT_V6_OCCUPATION_GROUP_NAME|LOT_V6_CAREER_AREA|LOT_V6_CAREER_AREA_NAME|  SOC_2|          SOC_2_NAME|  SOC_3|          SOC_3_NAME|  SOC_4|     SOC_4_NAME|  SOC_5|     SOC_5_NAME|LIGHTCAST_SECTORS|LIGHTCAST_SECTORS_NAME|NAICS_2022_2|   NAICS_2022_2_NAME|NAICS_2022_3|   NAICS_2022_3_NAME|NAICS_2022_4|   NAICS_2022_4_NAME|NAICS_2022_5|   NAICS_2022_5_NAME|NAICS_2022_6|   NAICS_2022_6_NAME|median_salary_emp_type|median_salary_emp_type_name|\n",
            "+--------------------+---------------+--------------------+-----------------+----------------------+----------+--------+---------+--------+--------------------+--------------------+--------------------+-----------+-------------------+--------------------+--------------------+---------------+----------------+--------+--------------------+-----------+-------------------+----------------+---------------------+-------------+-------------------+-------------+------------------+--------------------+--------------------+-------------+--------+-----------+----------------+-------------------+---------+-----------+--------------------+--------------------+-------------+------+--------------+-----+--------------------+-----+----------+---------------+--------------------+---------------+--------------------+------------+--------------------+------------+--------------------+------+--------------------+------+--------------------+------+--------------------+------+--------------------+------+--------------------+------------------+-------------------+--------------------+--------------------+--------------------+--------------------+-----------------------+--------------------+--------------------+--------------------+--------------------+--------------------+--------------------+----------+--------------------+----------+--------------------+--------------------+--------------------+--------------------+--------------------+--------------------+--------------------+----------+--------------------+----------+--------------------+----------+---------------+----------+---------------+---------------+--------------------+--------------+--------------------+--------------------------+-------------------------------+--------------------+-------------------------+-----------------------------+----------------------------------+-----------------+----------------------+-----------------------+----------------------------+------------------+-----------------------+-------+--------------------+-------+--------------------+-------+---------------+-------+---------------+-----------------+----------------------+------------+--------------------+------------+--------------------+------------+--------------------+------------+--------------------+------------+--------------------+----------------------+---------------------------+\n",
            "|Full-time (> 32 h...|              1|1f57d95acf4dc67ed...|         9/6/2024|  2024-09-06 20:32:...|         0|6/2/2024| 6/8/2024|       6|   [\\n  \"Company\"\\n]|[\\n  \"brassring.c...|[\\n  \"https://sjo...|         []|               NULL|Enterprise Analys...|31-May-2024\\n\\nEn...|       6/8/2024|               6|  894731|          Murphy USA| Murphy USA|              false|       [\\n  2\\n]| [\\n  \"Bachelor's ...|            2|  Bachelor's degree|         NULL|              NULL|                   2|                   2|        false|116500.0|          0|          [None]|               NULL|     NULL|       NULL|{\\n  \"lat\": 33.20...|RWwgRG9yYWRvLCBBUg==|El Dorado, AR|  5139|     Union, AR|20980|       El Dorado, AR|    5|  Arkansas|           5139|           Union, AR|           5139|           Union, AR|       20980|       El Dorado, AR|       20980|       El Dorado, AR|    44|        Retail Trade|   441|Motor Vehicle and...|  4413|Automotive Parts,...| 44133|Automotive Parts ...|441330|Automotive Parts ...|ET29C073C03D1F86B4|Enterprise Analysts|enterprise analys...|[\\n  \"KS126DB6T06...|[\\n  \"Merchandisi...|[\\n  \"KS126DB6T06...|   [\\n  \"Merchandisi...|                  []|                  []|[\\n  \"KS126706DPF...|[\\n  \"Mathematics...|[\\n  \"KS440W865GC...|[\\n  \"SQL (Progra...|15-2051.01|Business Intellig...|15-2051.01|Business Intellig...|[\\n  \"45.0601\",\\n...|[\\n  \"Economics, ...|[\\n  \"45.06\",\\n  ...|[\\n  \"Economics\",...|[\\n  \"45\",\\n  \"27...|[\\n  \"Social Scie...|   15-0000|Computer and Math...|   15-2000|Mathematical Scie...|   15-2050|Data Scientists|   15-2051|Data Scientists|             23|Information Techn...|        231010|Business Intellig...|                  23101011|           General ERP Analy...|                2310|     Business Intellig...|                     23101011|              General ERP Analy...|           231010|  Business Intellig...|                   2310|        Business Intellig...|                23|   Information Techn...|15-0000|Computer and Math...|15-2000|Mathematical Scie...|15-2050|Data Scientists|15-2051|Data Scientists|        [\\n  7\\n]|  [\\n  \"Artificial ...|          44|        Retail Trade|         441|Motor Vehicle and...|        4413|Automotive Parts,...|       44133|Automotive Parts ...|      441330|Automotive Parts ...|                116500|                     116500|\n",
            "|Full-time (> 32 h...|              1|0cb072af26757b6c4...|         8/2/2024|  2024-08-02 17:08:...|         0|6/2/2024| 8/1/2024|    NULL| [\\n  \"Job Board\"\\n]| [\\n  \"maine.gov\"\\n]|[\\n  \"https://job...|         []|               NULL|Oracle Consultant...|Oracle Consultant...|       8/1/2024|            NULL|  133098|Smx Corporation L...|        SMX|               true|      [\\n  99\\n]| [\\n  \"No Educatio...|           99|No Education Listed|         NULL|              NULL|                   3|                   3|        false|116500.0|          1|          Remote|               NULL|     NULL|       NULL|{\\n  \"lat\": 44.31...|    QXVndXN0YSwgTUU=|  Augusta, ME| 23011|  Kennebec, ME|12300|Augusta-Watervill...|   23|     Maine|          23011|        Kennebec, ME|          23011|        Kennebec, ME|       12300|Augusta-Watervill...|       12300|Augusta-Watervill...|    56|Administrative an...|   561|Administrative an...|  5613| Employment Services| 56132|Temporary Help Se...|561320|Temporary Help Se...|ET21DDA63780A7DC09| Oracle Consultants|oracle consultant...|[\\n  \"KS122626T55...|[\\n  \"Procurement...|[\\n  \"KS122626T55...|   [\\n  \"Procurement...|                  []|                  []|                  []|                  []|[\\n  \"BGSBF3F508F...|[\\n  \"Oracle Busi...|15-2051.01|Business Intellig...|15-2051.01|Business Intellig...|                  []|                  []|                  []|                  []|                  []|                  []|   15-0000|Computer and Math...|   15-2000|Mathematical Scie...|   15-2050|Data Scientists|   15-2051|Data Scientists|             23|Information Techn...|        231010|Business Intellig...|                  23101012|           Oracle Consultant...|                2310|     Business Intellig...|                     23101012|              Oracle Consultant...|           231010|  Business Intellig...|                   2310|        Business Intellig...|                23|   Information Techn...|15-0000|Computer and Math...|15-2000|Mathematical Scie...|15-2050|Data Scientists|15-2051|Data Scientists|             NULL|                  NULL|          56|Administrative an...|         561|Administrative an...|        5613| Employment Services|       56132|Temporary Help Se...|      561320|Temporary Help Se...|                116500|                     116500|\n",
            "|Full-time (> 32 h...|              1|85318b12b3331fa49...|         9/6/2024|  2024-09-06 20:32:...|         1|6/2/2024| 7/7/2024|      35| [\\n  \"Job Board\"\\n]|[\\n  \"dejobs.org\"\\n]|[\\n  \"https://dej...|         []|               NULL|        Data Analyst|Taking care of pe...|      6/10/2024|               8|39063746|            Sedgwick|   Sedgwick|              false|       [\\n  2\\n]| [\\n  \"Bachelor's ...|            2|  Bachelor's degree|         NULL|              NULL|                   5|                NULL|        false|116500.0|          0|          [None]|               NULL|     NULL|       NULL|{\\n  \"lat\": 32.77...|    RGFsbGFzLCBUWA==|   Dallas, TX| 48113|    Dallas, TX|19100|Dallas-Fort Worth...|   48|     Texas|          48113|          Dallas, TX|          48113|          Dallas, TX|       19100|Dallas-Fort Worth...|       19100|Dallas-Fort Worth...|    52|Finance and Insur...|   524|Insurance Carrier...|  5242|Agencies, Brokera...| 52429|Other Insurance R...|524291|    Claims Adjusting|ET3037E0C947A02404|      Data Analysts|        data analyst|[\\n  \"KS1218W78FG...|[\\n  \"Management\"...|[\\n  \"ESF3939CE1F...|   [\\n  \"Exception R...|[\\n  \"KS683TN76T7...|[\\n  \"Security Cl...|[\\n  \"KS1218W78FG...|[\\n  \"Management\"...|[\\n  \"KS126HY6YLT...|[\\n  \"Microsoft O...|15-2051.01|Business Intellig...|15-2051.01|Business Intellig...|                  []|                  []|                  []|                  []|                  []|                  []|   15-0000|Computer and Math...|   15-2000|Mathematical Scie...|   15-2050|Data Scientists|   15-2051|Data Scientists|             23|Information Techn...|        231113|Data / Data Minin...|                  23111310|                   Data Analyst|                2311|     Data Analysis and...|                     23111310|                      Data Analyst|           231113|  Data / Data Minin...|                   2311|        Data Analysis and...|                23|   Information Techn...|15-0000|Computer and Math...|15-2000|Mathematical Scie...|15-2050|Data Scientists|15-2051|Data Scientists|             NULL|                  NULL|          52|Finance and Insur...|         524|Insurance Carrier...|        5242|Agencies, Brokera...|       52429|Other Insurance R...|      524291|    Claims Adjusting|                116500|                     116500|\n",
            "|Full-time (> 32 h...|              1|1b5c3941e54a1889e...|         9/6/2024|  2024-09-06 20:32:...|         1|6/2/2024|7/20/2024|      48| [\\n  \"Job Board\"\\n]|[\\n  \"disabledper...|[\\n  \"https://www...|         []|               NULL|Sr. Lead Data Mgm...|About this role:\\...|      6/12/2024|              10|37615159|         Wells Fargo|Wells Fargo|              false|      [\\n  99\\n]| [\\n  \"No Educatio...|           99|No Education Listed|         NULL|              NULL|                   3|                NULL|        false|116500.0|          0|          [None]|               NULL|     NULL|       NULL|{\\n  \"lat\": 33.44...|    UGhvZW5peCwgQVo=|  Phoenix, AZ|  4013|  Maricopa, AZ|38060|Phoenix-Mesa-Chan...|    4|   Arizona|           4013|        Maricopa, AZ|           4013|        Maricopa, AZ|       38060|Phoenix-Mesa-Chan...|       38060|Phoenix-Mesa-Chan...|    52|Finance and Insur...|   522|Credit Intermedia...|  5221|Depository Credit...| 52211|  Commercial Banking|522110|  Commercial Banking|ET2114E0404BA30075|Management Analysts|sr lead data mgmt...|[\\n  \"KS123QX62QY...|[\\n  \"Exit Strate...|[\\n  \"KS123QX62QY...|   [\\n  \"Exit Strate...|                  []|                  []|[\\n  \"KS7G6NP6R6L...|[\\n  \"Reliability...|[\\n  \"KS4409D76NW...|[\\n  \"SAS (Softwa...|15-2051.01|Business Intellig...|15-2051.01|Business Intellig...|                  []|                  []|                  []|                  []|                  []|                  []|   15-0000|Computer and Math...|   15-2000|Mathematical Scie...|   15-2050|Data Scientists|   15-2051|Data Scientists|             23|Information Techn...|        231113|Data / Data Minin...|                  23111310|                   Data Analyst|                2311|     Data Analysis and...|                     23111310|                      Data Analyst|           231113|  Data / Data Minin...|                   2311|        Data Analysis and...|                23|   Information Techn...|15-0000|Computer and Math...|15-2000|Mathematical Scie...|15-2050|Data Scientists|15-2051|Data Scientists|        [\\n  6\\n]|  [\\n  \"Data Privac...|          52|Finance and Insur...|         522|Credit Intermedia...|        5221|Depository Credit...|       52211|  Commercial Banking|      522110|  Commercial Banking|                116500|                     116500|\n",
            "|Part-time / full-...|              3|cb5ca25f02bdf25c1...|        6/19/2024|   2024-06-19 07:00:00|         0|6/2/2024|6/17/2024|      15|[\\n  \"FreeJobBoar...|[\\n  \"craigslist....|[\\n  \"https://mod...|         []|               NULL|Comisiones de $10...|Comisiones de $10...|      6/17/2024|              15|       0|        Unclassified|      LH/GM|              false|      [\\n  99\\n]| [\\n  \"No Educatio...|           99|No Education Listed|         NULL|              NULL|                NULL|                NULL|        false| 92500.0|          0|          [None]|               year|   150000|      35000|{\\n  \"lat\": 37.63...|    TW9kZXN0bywgQ0E=|  Modesto, CA|  6099|Stanislaus, CA|33700|         Modesto, CA|    6|California|           6099|      Stanislaus, CA|           6099|      Stanislaus, CA|       33700|         Modesto, CA|       33700|         Modesto, CA|    99|Unclassified Indu...|   999|Unclassified Indu...|  9999|Unclassified Indu...| 99999|Unclassified Indu...|999999|Unclassified Indu...|ET0000000000000000|       Unclassified|comisiones de por...|                  []|                  []|                  []|                     []|                  []|                  []|                  []|                  []|                  []|                  []|15-2051.01|Business Intellig...|15-2051.01|Business Intellig...|                  []|                  []|                  []|                  []|                  []|                  []|   15-0000|Computer and Math...|   15-2000|Mathematical Scie...|   15-2050|Data Scientists|   15-2051|Data Scientists|             23|Information Techn...|        231010|Business Intellig...|                  23101012|           Oracle Consultant...|                2310|     Business Intellig...|                     23101012|              Oracle Consultant...|           231010|  Business Intellig...|                   2310|        Business Intellig...|                23|   Information Techn...|15-0000|Computer and Math...|15-2000|Mathematical Scie...|15-2050|Data Scientists|15-2051|Data Scientists|             NULL|                  NULL|          99|Unclassified Indu...|         999|Unclassified Indu...|        9999|Unclassified Indu...|       99999|Unclassified Indu...|      999999|Unclassified Indu...|                100000|                     100000|\n",
            "+--------------------+---------------+--------------------+-----------------+----------------------+----------+--------+---------+--------+--------------------+--------------------+--------------------+-----------+-------------------+--------------------+--------------------+---------------+----------------+--------+--------------------+-----------+-------------------+----------------+---------------------+-------------+-------------------+-------------+------------------+--------------------+--------------------+-------------+--------+-----------+----------------+-------------------+---------+-----------+--------------------+--------------------+-------------+------+--------------+-----+--------------------+-----+----------+---------------+--------------------+---------------+--------------------+------------+--------------------+------------+--------------------+------+--------------------+------+--------------------+------+--------------------+------+--------------------+------+--------------------+------------------+-------------------+--------------------+--------------------+--------------------+--------------------+-----------------------+--------------------+--------------------+--------------------+--------------------+--------------------+--------------------+----------+--------------------+----------+--------------------+--------------------+--------------------+--------------------+--------------------+--------------------+--------------------+----------+--------------------+----------+--------------------+----------+---------------+----------+---------------+---------------+--------------------+--------------+--------------------+--------------------------+-------------------------------+--------------------+-------------------------+-----------------------------+----------------------------------+-----------------+----------------------+-----------------------+----------------------------+------------------+-----------------------+-------+--------------------+-------+--------------------+-------+---------------+-------+---------------+-----------------+----------------------+------------+--------------------+------------+--------------------+------------+--------------------+------------+--------------------+------------+--------------------+----------------------+---------------------------+\n",
            "only showing top 5 rows\n",
            "\n"
          ]
        }
      ],
      "source": [
        "# Missing Value Treatment\n",
        "\n",
        "from pyspark.sql import Window  # (not used here but fine to keep)\n",
        "from pyspark.sql import functions as F\n",
        "from pyspark.sql.functions import col, when, isnan, count, expr\n",
        "\n",
        "# 1) Overall median salary\n",
        "overall_median_salary = df.approxQuantile(\"SALARY\", [0.5], 0.01)[0]\n",
        "\n",
        "# 2) Median salary by EMPLOYMENT_TYPE\n",
        "median_by_employment_type = (\n",
        "    df.groupBy(\"EMPLOYMENT_TYPE\")\n",
        "      .agg(expr(\"percentile_approx(SALARY, 0.5)\").alias(\"median_salary_emp_type\"))\n",
        ")\n",
        "\n",
        "# 3) Median salary by EMPLOYMENT_TYPE_NAME\n",
        "median_by_employment_type_name = (\n",
        "    df.groupBy(\"EMPLOYMENT_TYPE_NAME\")\n",
        "      .agg(expr(\"percentile_approx(SALARY, 0.5)\").alias(\"median_salary_emp_type_name\"))\n",
        ")\n",
        "\n",
        "# 4) Impute SALARY: prefer EMPLOYMENT_TYPE median, then EMPLOYMENT_TYPE_NAME median, else overall median\n",
        "df_salary_imputed = (\n",
        "    df.join(median_by_employment_type, on=\"EMPLOYMENT_TYPE\", how=\"left\")\n",
        "      .join(median_by_employment_type_name, on=\"EMPLOYMENT_TYPE_NAME\", how=\"left\")\n",
        "      .withColumn(\n",
        "          \"SALARY\",\n",
        "          F.when(\n",
        "              col(\"SALARY\").isNull(),\n",
        "              F.coalesce(\n",
        "                  col(\"median_salary_emp_type\"),\n",
        "                  col(\"median_salary_emp_type_name\"),\n",
        "                  F.lit(overall_median_salary)\n",
        "              )\n",
        "          ).otherwise(col(\"SALARY\"))\n",
        "      )\n",
        "      .drop(\"median_salary_emp_type\", \"median_salary_emp_type_name\")\n",
        ")\n",
        "\n",
        "# Join median values back to the original dataframe\n",
        "df_salary_imputed = (\n",
        "    df.join(median_by_employment_type, on=\"EMPLOYMENT_TYPE\", how=\"left\")\n",
        "      .join(median_by_employment_type_name, on=\"EMPLOYMENT_TYPE_NAME\", how=\"left\")\n",
        ")\n",
        "\n",
        "# Replace missing SALARY values\n",
        "df_salary_imputed = df_salary_imputed.withColumn(\n",
        "    \"SALARY\",\n",
        "    when(col(\"SALARY\").isNull(),\n",
        "         when(col(\"median_salary_emp_type\").isNotNull(), col(\"median_salary_emp_type\"))\n",
        "         .when(col(\"median_salary_emp_type_name\").isNotNull(), col(\"median_salary_emp_type_name\"))\n",
        "         .otherwise(overall_median_salary)\n",
        "    ).otherwise(col(\"SALARY\"))\n",
        ")\n",
        "\n",
        "df_salary_imputed.show(5)"
      ]
    },
    {
      "cell_type": "markdown",
      "id": "43e1a10e",
      "metadata": {},
      "source": [
        "# 2. Feature Engineering\n"
      ]
    },
    {
      "cell_type": "code",
      "execution_count": 93,
      "id": "8162b2ca",
      "metadata": {},
      "outputs": [
        {
          "name": "stderr",
          "output_type": "stream",
          "text": [
            "[Stage 712:>                                                        (0 + 1) / 1]\r"
          ]
        },
        {
          "name": "stdout",
          "output_type": "stream",
          "text": [
            "+--------+--------------------+--------------------+-------------------------------------------------+---------------------+----------------+--------+-------------+-------------------+----------------------+---------------------------+\n",
            "|SALARY  |MIN_YEARS_EXPERIENCE|MAX_YEARS_EXPERIENCE|EDUCATION_LEVELS_NAME                            |EMPLOYMENT_TYPE_NAME |REMOTE_TYPE_NAME|DURATION|IS_INTERNSHIP|COMPANY_IS_STAFFING|median_salary_emp_type|median_salary_emp_type_name|\n",
            "+--------+--------------------+--------------------+-------------------------------------------------+---------------------+----------------+--------+-------------+-------------------+----------------------+---------------------------+\n",
            "|117500.0|3                   |3                   |[\\n  \"Bachelor's degree\",\\n  \"Master's degree\"\\n]|Part-time / full-time|[None]          |14      |0            |0                  |100000                |100000                     |\n",
            "|100000.0|3                   |3                   |[\\n  \"Bachelor's degree\"\\n]                      |Part-time / full-time|[None]          |42      |0            |0                  |100000                |100000                     |\n",
            "|100000.0|3                   |3                   |[\\n  \"Bachelor's degree\"\\n]                      |Part-time / full-time|[None]          |20      |0            |0                  |100000                |100000                     |\n",
            "|100000.0|1                   |1                   |[\\n  \"High school or GED\"\\n]                     |Part-time / full-time|[None]          |42      |0            |0                  |100000                |100000                     |\n",
            "|162050.0|5                   |5                   |[\\n  \"No Education Listed\"\\n]                    |Part-time / full-time|Not Remote      |33      |0            |0                  |100000                |100000                     |\n",
            "+--------+--------------------+--------------------+-------------------------------------------------+---------------------+----------------+--------+-------------+-------------------+----------------------+---------------------------+\n",
            "only showing top 5 rows\n",
            "\n"
          ]
        },
        {
          "name": "stderr",
          "output_type": "stream",
          "text": [
            "                                                                                \r"
          ]
        }
      ],
      "source": [
        "#| eval: true\n",
        "#| echo: false\n",
        "#| fig-align: center\n",
        "\n",
        "from pyspark.sql.functions import col, pow\n",
        "from pyspark.ml.feature import StringIndexer, OneHotEncoder, VectorAssembler\n",
        "from pyspark.ml import Pipeline\n",
        "from pyspark.sql.types import BooleanType, StringType, IntegerType\n",
        "from pyspark.sql.types import IntegerType, DoubleType, DecimalType\n",
        "\n",
        "# Drop rows with NA values in relevant columns\n",
        "regression_df = df_salary_imputed.dropna(subset=[\n",
        "    \"SALARY\", \"MIN_YEARS_EXPERIENCE\", \"MAX_YEARS_EXPERIENCE\",\n",
        "    \"EDUCATION_LEVELS_NAME\", \"EMPLOYMENT_TYPE_NAME\", \"REMOTE_TYPE_NAME\",\n",
        "    \"DURATION\", \"IS_INTERNSHIP\", \"COMPANY_IS_STAFFING\"\n",
        "]).select(\n",
        "    \"SALARY\", \"MIN_YEARS_EXPERIENCE\", \"MAX_YEARS_EXPERIENCE\",\n",
        "    \"EDUCATION_LEVELS_NAME\", \"EMPLOYMENT_TYPE_NAME\", \"REMOTE_TYPE_NAME\",\n",
        "    \"DURATION\", \"IS_INTERNSHIP\", \"COMPANY_IS_STAFFING\",\n",
        "    \"median_salary_emp_type\", \"median_salary_emp_type_name\"\n",
        ")\n",
        "\n",
        "# Convert Duration to numeric (in days)\n",
        "regression_df = regression_df.withColumn(\"DURATION\", col(\"DURATION\").cast(IntegerType()))\n",
        "\n",
        "# Categorical columns\n",
        "categorical_cols = [\n",
        "    \"EDUCATION_LEVELS_NAME\", \"EMPLOYMENT_TYPE_NAME\", \"REMOTE_TYPE_NAME\", \"IS_INTERNSHIP\", \"COMPANY_IS_STAFFING\"\n",
        "]\n",
        "\n",
        "# Cast boolean columns to integer\n",
        "regression_df = regression_df.withColumn(\"IS_INTERNSHIP\", col(\"IS_INTERNSHIP\").cast(IntegerType()))\n",
        "regression_df = regression_df.withColumn(\"COMPANY_IS_STAFFING\", col(\"COMPANY_IS_STAFFING\").cast(IntegerType()))\n",
        "\n",
        "# Show a preview\n",
        "regression_df.show(5, truncate=False)\n"
      ]
    },
    {
      "cell_type": "code",
      "execution_count": 94,
      "id": "10e390df",
      "metadata": {},
      "outputs": [
        {
          "name": "stderr",
          "output_type": "stream",
          "text": [
            "[Stage 772:>                                                        (0 + 1) / 1]\r"
          ]
        },
        {
          "name": "stdout",
          "output_type": "stream",
          "text": [
            "+--------+------------------------------------------------------+\n",
            "|SALARY  |features                                              |\n",
            "+--------+------------------------------------------------------+\n",
            "|117500.0|(28,[0,1,2,5,23,26,27],[3.0,3.0,14.0,1.0,1.0,1.0,1.0])|\n",
            "|100000.0|(28,[0,1,2,3,23,26,27],[3.0,3.0,42.0,1.0,1.0,1.0,1.0])|\n",
            "|100000.0|(28,[0,1,2,3,23,26,27],[3.0,3.0,20.0,1.0,1.0,1.0,1.0])|\n",
            "|100000.0|(28,[0,1,2,8,23,26,27],[1.0,1.0,42.0,1.0,1.0,1.0,1.0])|\n",
            "|162050.0|(28,[0,1,2,4,26,27],[5.0,5.0,33.0,1.0,1.0,1.0])       |\n",
            "+--------+------------------------------------------------------+\n",
            "only showing top 5 rows\n",
            "\n"
          ]
        },
        {
          "name": "stderr",
          "output_type": "stream",
          "text": [
            "                                                                                \r"
          ]
        }
      ],
      "source": [
        "# Clean Education Levels by cleaning \\n and array brackets\n",
        "from pyspark.sql.functions import regexp_replace, trim\n",
        "\n",
        "regression_df = regression_df.withColumn(\n",
        "    \"EDUCATION_LEVELS_NAME\",\n",
        "    trim(regexp_replace(col(\"EDUCATION_LEVELS_NAME\"), r\"[\\[\\]\\n]\", \"\"))\n",
        ")\n",
        "\n",
        "# Index and One-Hot Encode\n",
        "indexers = [\n",
        "    StringIndexer(inputCol=col, outputCol=f\"{col}_idx\", handleInvalid='skip')\n",
        "    for col in categorical_cols\n",
        "]\n",
        "encoders = [\n",
        "    OneHotEncoder(inputCol=f\"{col}_idx\", outputCol=f\"{col}_vec\")\n",
        "    for col in categorical_cols\n",
        "]\n",
        "\n",
        "# Assemble base features (for GLR and Random Forest)\n",
        "assembler = VectorAssembler(\n",
        "    inputCols=[\n",
        "        \"MIN_YEARS_EXPERIENCE\", \"MAX_YEARS_EXPERIENCE\", \"DURATION\"\n",
        "    ] + [f\"{col}_vec\" for col in categorical_cols],\n",
        "    outputCol=\"features\"\n",
        ")\n",
        "\n",
        "pipeline = Pipeline(stages=indexers + encoders + [assembler])\n",
        "regression_data = pipeline.fit(regression_df).transform(regression_df)\n",
        "\n",
        "# Show final features structure\n",
        "regression_data.select(\"SALARY\", \"features\").show(5, truncate=False)\n"
      ]
    },
    {
      "cell_type": "markdown",
      "id": "552ab383",
      "metadata": {},
      "source": [
        "# 3. Train/Test Split\n"
      ]
    },
    {
      "cell_type": "markdown",
      "id": "7dfe9907",
      "metadata": {},
      "source": [
        "I decided to split the data into 80% for training and 20% for testing. I chose this ratio because it gives the model enough data to learn patterns (80%) while keeping a fair portion (20%) aside to evaluate how well the model performs on unseen data. Using too little training data could make the model less accurate, while using too little testing data could make the evaluation unreliable. The 80/20 split is a common and balanced choice for regression problems."
      ]
    },
    {
      "cell_type": "code",
      "execution_count": 95,
      "id": "a1481148",
      "metadata": {},
      "outputs": [
        {
          "name": "stderr",
          "output_type": "stream",
          "text": [
            "                                                                                \r"
          ]
        },
        {
          "name": "stdout",
          "output_type": "stream",
          "text": [
            "(5039, 22)\n"
          ]
        },
        {
          "name": "stderr",
          "output_type": "stream",
          "text": [
            "                                                                                \r"
          ]
        },
        {
          "name": "stdout",
          "output_type": "stream",
          "text": [
            "(4070, 22)\n"
          ]
        },
        {
          "name": "stderr",
          "output_type": "stream",
          "text": [
            "[Stage 802:>                                                        (0 + 1) / 1]\r"
          ]
        },
        {
          "name": "stdout",
          "output_type": "stream",
          "text": [
            "(969, 22)\n"
          ]
        },
        {
          "name": "stderr",
          "output_type": "stream",
          "text": [
            "                                                                                \r"
          ]
        }
      ],
      "source": [
        "#| eval: true\n",
        "#| echo: false\n",
        "#| fig-align: center\n",
        "\n",
        "# Split Data\n",
        "regression_train, regression_test = regression_data.randomSplit([0.8, 0.2], seed=42)\n",
        "\n",
        "print((regression_data.count(), len(regression_data.columns)))\n",
        "print((regression_train.count(), len(regression_train.columns)))\n",
        "print((regression_test.count(), len(regression_test.columns)))\n",
        "\n"
      ]
    },
    {
      "cell_type": "markdown",
      "id": "31b85851",
      "metadata": {},
      "source": [
        "# 4. Linear Regression"
      ]
    },
    {
      "cell_type": "code",
      "execution_count": 96,
      "id": "690b41d6",
      "metadata": {},
      "outputs": [
        {
          "name": "stderr",
          "output_type": "stream",
          "text": [
            "                                                                                \r"
          ]
        }
      ],
      "source": [
        "\n",
        "from pyspark.ml.regression import GeneralizedLinearRegression\n",
        "\n",
        "feature_names = assembler.getInputCols()\n",
        "\n",
        "glr = GeneralizedLinearRegression(\n",
        "    featuresCol=\"features\",\n",
        "    labelCol=\"SALARY\",\n",
        "    family=\"gaussian\",\n",
        "    link=\"identity\",  # standard linear regression\n",
        "    maxIter=10,\n",
        "    regParam=0.3\n",
        ")\n",
        "\n",
        "glr_model = glr.fit(regression_data)\n",
        "summary = glr_model.summary\n"
      ]
    },
    {
      "cell_type": "code",
      "execution_count": 97,
      "id": "58367055",
      "metadata": {},
      "outputs": [
        {
          "name": "stdout",
          "output_type": "stream",
          "text": [
            "Intercept: 83684.2103\n",
            "Coefficients:\n",
            "Feature 1: 1596.5795\n",
            "Feature 2: 1596.5795\n",
            "Feature 3: 31.1901\n",
            "Feature 4: 2943.3549\n",
            "Feature 5: 5624.8675\n",
            "Feature 6: 11303.5572\n",
            "Feature 7: -25678.5645\n",
            "Feature 8: 14668.1325\n",
            "Feature 9: -9752.7189\n",
            "Feature 10: -118.7467\n",
            "Feature 11: 13480.7278\n",
            "Feature 12: -9277.3038\n",
            "Feature 13: 3310.0724\n",
            "Feature 14: -14782.2689\n",
            "Feature 15: 35678.4989\n",
            "Feature 16: -8064.0197\n",
            "Feature 17: -2793.9409\n",
            "Feature 18: 17915.8367\n",
            "Feature 19: 8358.0949\n",
            "Feature 20: -35699.8382\n",
            "Feature 21: 32498.9245\n",
            "Feature 22: 6376.6043\n",
            "Feature 23: -5663.4155\n",
            "Feature 24: 4176.7678\n",
            "Feature 25: 8503.4618\n",
            "Feature 26: 2741.9488\n",
            "Feature 27: -765.8130\n",
            "Feature 28: -111.3548\n"
          ]
        }
      ],
      "source": [
        "# Coefficients and Intercept\n",
        "print(\"Intercept: {:.4f}\".format(glr_model.intercept))\n",
        "print(\"Coefficients:\")\n",
        "for i, coef in enumerate(glr_model.coefficients):\n",
        "    print(f\"Feature {i + 1}: {coef:.4f}\")\n"
      ]
    },
    {
      "cell_type": "code",
      "execution_count": 98,
      "id": "13fa7062",
      "metadata": {},
      "outputs": [
        {
          "name": "stdout",
          "output_type": "stream",
          "text": [
            "\n",
            "--- Regression Summary ---\n"
          ]
        },
        {
          "name": "stderr",
          "output_type": "stream",
          "text": [
            "[Stage 832:>                                                        (0 + 1) / 1]\r"
          ]
        },
        {
          "name": "stdout",
          "output_type": "stream",
          "text": [
            "Coefficient Standard Errors: ['22889.3361', '22889.3361', '20.7234', '20967.0009', '20980.9421', '20982.8316', '21094.7761', '21104.6267', '21115.7024', '21143.7509', '21221.3547', '21327.2560', '21500.7656', '21553.1712', '21698.8688', '21921.5499', '22028.5324', '22141.1180', '22282.5601', '24311.4028', '24305.5662', '3075.8265', '3587.0214', '2925.8458', '2988.0317', '3375.9809', '4590.5476', '825.5726', '21910.9169']\n",
            "T-Values: ['0.0698', '0.0698', '1.5051', '0.1404', '0.2681', '0.5387', '-1.2173', '0.6950', '-0.4619', '-0.0056', '0.6352', '-0.4350', '0.1540', '-0.6859', '1.6443', '-0.3679', '-0.1268', '0.8092', '0.3751', '-1.4684', '1.3371', '2.0731', '-1.5789', '1.4275', '2.8458', '0.8122', '-0.1668', '-0.1349', '3.8193']\n",
            "P-Values: ['0.9444', '0.9444', '0.1324', '0.8884', '0.7886', '0.5901', '0.2235', '0.4871', '0.6442', '0.9955', '0.5253', '0.6636', '0.8777', '0.4928', '0.1002', '0.7130', '0.8991', '0.4185', '0.7076', '0.1420', '0.1813', '0.0382', '0.1144', '0.1535', '0.0044', '0.4167', '0.8675', '0.8927', '0.0001']\n"
          ]
        },
        {
          "name": "stderr",
          "output_type": "stream",
          "text": [
            "                                                                                \r"
          ]
        }
      ],
      "source": [
        "# Summary stats\n",
        "print(\"\\n--- Regression Summary ---\")\n",
        "print(\"Coefficient Standard Errors:\", [f\"{val:.4f}\" for val in summary.coefficientStandardErrors])\n",
        "print(\"T-Values:\", [f\"{val:.4f}\" for val in summary.tValues])\n",
        "print(\"P-Values:\", [f\"{val:.4f}\" for val in summary.pValues])\n"
      ]
    },
    {
      "cell_type": "code",
      "execution_count": 99,
      "id": "42711014",
      "metadata": {},
      "outputs": [
        {
          "name": "stderr",
          "output_type": "stream",
          "text": [
            "                                                                                \r"
          ]
        },
        {
          "name": "stdout",
          "output_type": "stream",
          "text": [
            "Null Deviance: 2909123659016.3213\n",
            "Residual DF Null: 5038\n",
            "Deviance: 2272959595356.6333\n",
            "Residual DF: 5010\n"
          ]
        },
        {
          "name": "stderr",
          "output_type": "stream",
          "text": [
            "[Stage 848:>                                                        (0 + 1) / 1]\r"
          ]
        },
        {
          "name": "stdout",
          "output_type": "stream",
          "text": [
            "AIC: 114772.9258\n"
          ]
        },
        {
          "name": "stderr",
          "output_type": "stream",
          "text": [
            "                                                                                \r"
          ]
        }
      ],
      "source": [
        "# print(f\"\\nDispersion: {summary.dispersion:.4f}\")\n",
        "print(f\"Null Deviance: {summary.nullDeviance:.4f}\")\n",
        "print(f\"Residual DF Null: {summary.residualDegreeOfFreedomNull}\")\n",
        "print(f\"Deviance: {summary.deviance:.4f}\")\n",
        "print(f\"Residual DF: {summary.residualDegreeOfFreedom}\")\n",
        "print(f\"AIC: {summary.aic:.4f}\")\n"
      ]
    },
    {
      "cell_type": "code",
      "execution_count": 100,
      "id": "0b9188cf",
      "metadata": {},
      "outputs": [
        {
          "name": "stdout",
          "output_type": "stream",
          "text": [
            "--- This is a diagnostic check, no need to print in the final doc ---\n",
            "Length of features: 29\n",
            "Length of coefs: 29\n",
            "Length of se: 29\n",
            "Length of tvals: 29\n",
            "Length of pvals: 29\n"
          ]
        }
      ],
      "source": [
        "# 1. Pull feature names directly from Java backend\n",
        "feature_names = summary._call_java(\"featureNames\")\n",
        "\n",
        "# 2. Construct full table including intercept\n",
        "features = [\"Intercept\"] + list(feature_names)\n",
        "coefs    = [glr_model.intercept] + list(glr_model.coefficients)\n",
        "se       = list(summary.coefficientStandardErrors)\n",
        "tvals    = list(summary.tValues)\n",
        "pvals    = list(summary.pValues)\n",
        "\n",
        "# (Optional) quick diagnostics\n",
        "print(\"--- This is a diagnostic check, no need to print in the final doc ---\")\n",
        "print(\"Length of features:\", len(features))\n",
        "print(\"Length of coefs:\", len(coefs))\n",
        "print(\"Length of se:\", len(se))\n",
        "print(\"Length of tvals:\", len(tvals))\n",
        "print(\"Length of pvals:\", len(pvals))\n"
      ]
    },
    {
      "cell_type": "markdown",
      "id": "ccbfffc2",
      "metadata": {},
      "source": [
        "# 4.1 Generalized Linear Regression Summary\n"
      ]
    },
    {
      "cell_type": "code",
      "execution_count": 101,
      "id": "131f610b",
      "metadata": {},
      "outputs": [
        {
          "data": {
            "text/html": [
              "<table border=\"1\" class=\"dataframe\">\n",
              "  <thead>\n",
              "    <tr style=\"text-align: right;\">\n",
              "      <th></th>\n",
              "      <th>Feature</th>\n",
              "      <th>Estimate</th>\n",
              "      <th>Std Error</th>\n",
              "      <th>t-stat</th>\n",
              "      <th>P-Value</th>\n",
              "    </tr>\n",
              "  </thead>\n",
              "  <tbody>\n",
              "    <tr>\n",
              "      <th>0</th>\n",
              "      <td>Intercept</td>\n",
              "      <td>83684.2103</td>\n",
              "      <td>22889.3361</td>\n",
              "      <td>0.0698</td>\n",
              "      <td>0.9444</td>\n",
              "    </tr>\n",
              "    <tr>\n",
              "      <th>1</th>\n",
              "      <td>MIN_YEARS_EXPERIENCE</td>\n",
              "      <td>1596.5795</td>\n",
              "      <td>22889.3361</td>\n",
              "      <td>0.0698</td>\n",
              "      <td>0.9444</td>\n",
              "    </tr>\n",
              "    <tr>\n",
              "      <th>2</th>\n",
              "      <td>MAX_YEARS_EXPERIENCE</td>\n",
              "      <td>1596.5795</td>\n",
              "      <td>20.7234</td>\n",
              "      <td>1.5051</td>\n",
              "      <td>0.1324</td>\n",
              "    </tr>\n",
              "    <tr>\n",
              "      <th>3</th>\n",
              "      <td>DURATION</td>\n",
              "      <td>31.1901</td>\n",
              "      <td>20967.0009</td>\n",
              "      <td>0.1404</td>\n",
              "      <td>0.8884</td>\n",
              "    </tr>\n",
              "    <tr>\n",
              "      <th>4</th>\n",
              "      <td>EDUCATION_LEVELS_NAME_vec_\"Bachelor's degree\"</td>\n",
              "      <td>2943.3549</td>\n",
              "      <td>20980.9421</td>\n",
              "      <td>0.2681</td>\n",
              "      <td>0.7886</td>\n",
              "    </tr>\n",
              "    <tr>\n",
              "      <th>5</th>\n",
              "      <td>EDUCATION_LEVELS_NAME_vec_\"No Education Listed\"</td>\n",
              "      <td>5624.8675</td>\n",
              "      <td>20982.8316</td>\n",
              "      <td>0.5387</td>\n",
              "      <td>0.5901</td>\n",
              "    </tr>\n",
              "    <tr>\n",
              "      <th>6</th>\n",
              "      <td>EDUCATION_LEVELS_NAME_vec_\"Bachelor's degree\",  \"Master's degree\"</td>\n",
              "      <td>11303.5572</td>\n",
              "      <td>21094.7761</td>\n",
              "      <td>-1.2173</td>\n",
              "      <td>0.2235</td>\n",
              "    </tr>\n",
              "    <tr>\n",
              "      <th>7</th>\n",
              "      <td>EDUCATION_LEVELS_NAME_vec_\"High school or GED\",  \"Bachelor's degree\"</td>\n",
              "      <td>-25678.5645</td>\n",
              "      <td>21104.6267</td>\n",
              "      <td>0.6950</td>\n",
              "      <td>0.4871</td>\n",
              "    </tr>\n",
              "    <tr>\n",
              "      <th>8</th>\n",
              "      <td>EDUCATION_LEVELS_NAME_vec_\"Bachelor's degree\",  \"Master's degree\",  \"Ph.D. or professional degree\"</td>\n",
              "      <td>14668.1325</td>\n",
              "      <td>21115.7024</td>\n",
              "      <td>-0.4619</td>\n",
              "      <td>0.6442</td>\n",
              "    </tr>\n",
              "    <tr>\n",
              "      <th>9</th>\n",
              "      <td>EDUCATION_LEVELS_NAME_vec_\"High school or GED\"</td>\n",
              "      <td>-9752.7189</td>\n",
              "      <td>21143.7509</td>\n",
              "      <td>-0.0056</td>\n",
              "      <td>0.9955</td>\n",
              "    </tr>\n",
              "    <tr>\n",
              "      <th>10</th>\n",
              "      <td>EDUCATION_LEVELS_NAME_vec_\"Associate degree\",  \"Bachelor's degree\"</td>\n",
              "      <td>-118.7467</td>\n",
              "      <td>21221.3547</td>\n",
              "      <td>0.6352</td>\n",
              "      <td>0.5253</td>\n",
              "    </tr>\n",
              "    <tr>\n",
              "      <th>11</th>\n",
              "      <td>EDUCATION_LEVELS_NAME_vec_\"Master's degree\"</td>\n",
              "      <td>13480.7278</td>\n",
              "      <td>21327.2560</td>\n",
              "      <td>-0.4350</td>\n",
              "      <td>0.6636</td>\n",
              "    </tr>\n",
              "    <tr>\n",
              "      <th>12</th>\n",
              "      <td>EDUCATION_LEVELS_NAME_vec_\"Associate degree\"</td>\n",
              "      <td>-9277.3038</td>\n",
              "      <td>21500.7656</td>\n",
              "      <td>0.1540</td>\n",
              "      <td>0.8777</td>\n",
              "    </tr>\n",
              "    <tr>\n",
              "      <th>13</th>\n",
              "      <td>EDUCATION_LEVELS_NAME_vec_\"Associate degree\",  \"Bachelor's degree\",  \"Master's degree\"</td>\n",
              "      <td>3310.0724</td>\n",
              "      <td>21553.1712</td>\n",
              "      <td>-0.6859</td>\n",
              "      <td>0.4928</td>\n",
              "    </tr>\n",
              "    <tr>\n",
              "      <th>14</th>\n",
              "      <td>EDUCATION_LEVELS_NAME_vec_\"Associate degree\",  \"Bachelor's degree\",  \"Master's degree\",  \"Ph.D. or professional degree\"</td>\n",
              "      <td>-14782.2689</td>\n",
              "      <td>21698.8688</td>\n",
              "      <td>1.6443</td>\n",
              "      <td>0.1002</td>\n",
              "    </tr>\n",
              "    <tr>\n",
              "      <th>15</th>\n",
              "      <td>EDUCATION_LEVELS_NAME_vec_\"Bachelor's degree\",  \"Ph.D. or professional degree\"</td>\n",
              "      <td>35678.4989</td>\n",
              "      <td>21921.5499</td>\n",
              "      <td>-0.3679</td>\n",
              "      <td>0.7130</td>\n",
              "    </tr>\n",
              "    <tr>\n",
              "      <th>16</th>\n",
              "      <td>EDUCATION_LEVELS_NAME_vec_\"High school or GED\",  \"Associate degree\",  \"Bachelor's degree\"</td>\n",
              "      <td>-8064.0197</td>\n",
              "      <td>22028.5324</td>\n",
              "      <td>-0.1268</td>\n",
              "      <td>0.8991</td>\n",
              "    </tr>\n",
              "    <tr>\n",
              "      <th>17</th>\n",
              "      <td>EDUCATION_LEVELS_NAME_vec_\"High school or GED\",  \"Bachelor's degree\",  \"Master's degree\"</td>\n",
              "      <td>-2793.9409</td>\n",
              "      <td>22141.1180</td>\n",
              "      <td>0.8092</td>\n",
              "      <td>0.4185</td>\n",
              "    </tr>\n",
              "    <tr>\n",
              "      <th>18</th>\n",
              "      <td>EDUCATION_LEVELS_NAME_vec_\"Master's degree\",  \"Ph.D. or professional degree\"</td>\n",
              "      <td>17915.8367</td>\n",
              "      <td>22282.5601</td>\n",
              "      <td>0.3751</td>\n",
              "      <td>0.7076</td>\n",
              "    </tr>\n",
              "    <tr>\n",
              "      <th>19</th>\n",
              "      <td>EDUCATION_LEVELS_NAME_vec_\"High school or GED\",  \"Associate degree\"</td>\n",
              "      <td>8358.0949</td>\n",
              "      <td>24311.4028</td>\n",
              "      <td>-1.4684</td>\n",
              "      <td>0.1420</td>\n",
              "    </tr>\n",
              "    <tr>\n",
              "      <th>20</th>\n",
              "      <td>EDUCATION_LEVELS_NAME_vec_\"High school or GED\",  \"Associate degree\",  \"Bachelor's degree\",  \"Master's degree\"</td>\n",
              "      <td>-35699.8382</td>\n",
              "      <td>24305.5662</td>\n",
              "      <td>1.3371</td>\n",
              "      <td>0.1813</td>\n",
              "    </tr>\n",
              "    <tr>\n",
              "      <th>21</th>\n",
              "      <td>EDUCATION_LEVELS_NAME_vec_\"Ph.D. or professional degree\"</td>\n",
              "      <td>32498.9245</td>\n",
              "      <td>3075.8265</td>\n",
              "      <td>2.0731</td>\n",
              "      <td>0.0382</td>\n",
              "    </tr>\n",
              "    <tr>\n",
              "      <th>22</th>\n",
              "      <td>EMPLOYMENT_TYPE_NAME_vec_Full-time (&gt; 32 hours)</td>\n",
              "      <td>6376.6043</td>\n",
              "      <td>3587.0214</td>\n",
              "      <td>-1.5789</td>\n",
              "      <td>0.1144</td>\n",
              "    </tr>\n",
              "    <tr>\n",
              "      <th>23</th>\n",
              "      <td>EMPLOYMENT_TYPE_NAME_vec_Part-time (â‰¤ 32 hours)</td>\n",
              "      <td>-5663.4155</td>\n",
              "      <td>2925.8458</td>\n",
              "      <td>1.4275</td>\n",
              "      <td>0.1535</td>\n",
              "    </tr>\n",
              "    <tr>\n",
              "      <th>24</th>\n",
              "      <td>REMOTE_TYPE_NAME_vec_[None]</td>\n",
              "      <td>4176.7678</td>\n",
              "      <td>2988.0317</td>\n",
              "      <td>2.8458</td>\n",
              "      <td>0.0044</td>\n",
              "    </tr>\n",
              "    <tr>\n",
              "      <th>25</th>\n",
              "      <td>REMOTE_TYPE_NAME_vec_Remote</td>\n",
              "      <td>8503.4618</td>\n",
              "      <td>3375.9809</td>\n",
              "      <td>0.8122</td>\n",
              "      <td>0.4167</td>\n",
              "    </tr>\n",
              "    <tr>\n",
              "      <th>26</th>\n",
              "      <td>REMOTE_TYPE_NAME_vec_Hybrid Remote</td>\n",
              "      <td>2741.9488</td>\n",
              "      <td>4590.5476</td>\n",
              "      <td>-0.1668</td>\n",
              "      <td>0.8675</td>\n",
              "    </tr>\n",
              "    <tr>\n",
              "      <th>27</th>\n",
              "      <td>IS_INTERNSHIP_vec_0</td>\n",
              "      <td>-765.8130</td>\n",
              "      <td>825.5726</td>\n",
              "      <td>-0.1349</td>\n",
              "      <td>0.8927</td>\n",
              "    </tr>\n",
              "    <tr>\n",
              "      <th>28</th>\n",
              "      <td>COMPANY_IS_STAFFING_vec_0</td>\n",
              "      <td>-111.3548</td>\n",
              "      <td>21910.9169</td>\n",
              "      <td>3.8193</td>\n",
              "      <td>0.0001</td>\n",
              "    </tr>\n",
              "  </tbody>\n",
              "</table>"
            ],
            "text/plain": [
              "<IPython.core.display.HTML object>"
            ]
          },
          "execution_count": 101,
          "metadata": {},
          "output_type": "execute_result"
        }
      ],
      "source": [
        "import pandas as pd\n",
        "from tabulate import tabulate\n",
        "from IPython.display import HTML\n",
        "\n",
        "coef_table = pd.DataFrame({\n",
        "    \"Feature\": features,\n",
        "    \"Estimate\": [f\"{v:.4f}\" if v is not None else None for v in coefs],\n",
        "    \"Std Error\": [f\"{v:.4f}\" if v is not None else None for v in se],\n",
        "    \"t-stat\": [f\"{v:.4f}\" if v is not None else None for v in tvals],\n",
        "    \"P-Value\": [f\"{v:.4f}\" if v is not None else None for v in pvals]\n",
        "})\n",
        "\n",
        "# 4. Save for report\n",
        "coef_table.to_csv(\"output/glr_summary.csv\", index=False)\n",
        "\n",
        "# 5. Optional pretty print\n",
        "HTML(coef_table.to_html())\n"
      ]
    },
    {
      "cell_type": "markdown",
      "id": "78d04d07",
      "metadata": {},
      "source": [
        "# 5. Polymnomial Regression"
      ]
    },
    {
      "cell_type": "code",
      "execution_count": 102,
      "id": "9c4c9478",
      "metadata": {},
      "outputs": [
        {
          "name": "stderr",
          "output_type": "stream",
          "text": [
            "[Stage 857:>                                                        (0 + 1) / 1]\r"
          ]
        },
        {
          "name": "stdout",
          "output_type": "stream",
          "text": [
            "+--------+------------------------------------------------------------+\n",
            "|SALARY  |features_poly                                               |\n",
            "+--------+------------------------------------------------------------+\n",
            "|117500.0|(29,[0,1,2,3,6,24,27,28],[3.0,9.0,3.0,14.0,1.0,1.0,1.0,1.0])|\n",
            "|100000.0|(29,[0,1,2,3,4,24,27,28],[3.0,9.0,3.0,42.0,1.0,1.0,1.0,1.0])|\n",
            "|100000.0|(29,[0,1,2,3,4,24,27,28],[3.0,9.0,3.0,20.0,1.0,1.0,1.0,1.0])|\n",
            "|100000.0|(29,[0,1,2,3,9,24,27,28],[1.0,1.0,1.0,42.0,1.0,1.0,1.0,1.0])|\n",
            "|162050.0|(29,[0,1,2,3,5,27,28],[5.0,25.0,5.0,33.0,1.0,1.0,1.0])      |\n",
            "+--------+------------------------------------------------------------+\n",
            "only showing top 5 rows\n",
            "\n"
          ]
        },
        {
          "name": "stderr",
          "output_type": "stream",
          "text": [
            "                                                                                \r"
          ]
        }
      ],
      "source": [
        "#| eval: true\n",
        "#| echo: false\n",
        "#| fig-align: center\n",
        "\n",
        "# Index and One-Hot Encode\n",
        "# Create squared term for Polynomial Regression\n",
        "poly_data = regression_data.withColumn(\n",
        "    \"MAX_YEARS_EXPERIENCE_SQ\",\n",
        "    pow(col(\"MAX_YEARS_EXPERIENCE\"), 2)\n",
        ")\n",
        "\n",
        "# Assemble polynomial features\n",
        "assembler_poly = VectorAssembler(\n",
        "    inputCols=[\n",
        "        \"MIN_YEARS_EXPERIENCE\", \"MAX_YEARS_EXPERIENCE_SQ\", \"MAX_YEARS_EXPERIENCE\",\n",
        "        \"DURATION\"\n",
        "    ] + [f\"{col}_vec\" for col in categorical_cols],\n",
        "    outputCol=\"features_poly\"\n",
        ")\n",
        "\n",
        "poly_data = assembler_poly.transform(poly_data)\n",
        "\n",
        "# Show final structure\n",
        "poly_data.select(\"SALARY\", \"features_poly\").show(5, truncate=False)\n"
      ]
    },
    {
      "cell_type": "code",
      "execution_count": 103,
      "id": "5530a6bd",
      "metadata": {},
      "outputs": [
        {
          "name": "stderr",
          "output_type": "stream",
          "text": [
            "                                                                                \r"
          ]
        },
        {
          "name": "stdout",
          "output_type": "stream",
          "text": [
            "(5039, 24)\n"
          ]
        },
        {
          "name": "stderr",
          "output_type": "stream",
          "text": [
            "                                                                                \r"
          ]
        },
        {
          "name": "stdout",
          "output_type": "stream",
          "text": [
            "(4070, 24)\n"
          ]
        },
        {
          "name": "stderr",
          "output_type": "stream",
          "text": [
            "[Stage 884:>                                                        (0 + 1) / 1]\r"
          ]
        },
        {
          "name": "stdout",
          "output_type": "stream",
          "text": [
            "(969, 24)\n"
          ]
        },
        {
          "name": "stderr",
          "output_type": "stream",
          "text": [
            "                                                                                \r"
          ]
        }
      ],
      "source": [
        "# Split Data\n",
        "polyreg_train, polyreg_test = poly_data.randomSplit([0.8, 0.2], seed=42)\n",
        "\n",
        "print((poly_data.count(), len(poly_data.columns)))\n",
        "print((polyreg_train.count(), len(polyreg_train.columns)))\n",
        "print((polyreg_test.count(), len(polyreg_test.columns)))\n"
      ]
    },
    {
      "cell_type": "code",
      "execution_count": 104,
      "id": "22c13edf",
      "metadata": {},
      "outputs": [
        {
          "name": "stderr",
          "output_type": "stream",
          "text": [
            "                                                                                \r"
          ]
        }
      ],
      "source": [
        "from pyspark.ml.regression import GeneralizedLinearRegression\n",
        "\n",
        "feature_names = assembler.getInputCols()\n",
        "\n",
        "poly_glr_max_years = GeneralizedLinearRegression(\n",
        "    featuresCol=\"features_poly\",\n",
        "    labelCol=\"SALARY\",\n",
        "    family=\"gaussian\",   # normal distribution\n",
        "    link=\"identity\",     # standard linear regression\n",
        "    maxIter=10,          # number of iterations for least squares\n",
        "    regParam=0.3         # regularization parameter (L2 regularization by default)\n",
        ")\n",
        "\n",
        "poly_glr_max_years_model = poly_glr_max_years.fit(poly_data)\n",
        "poly_summary = poly_glr_max_years_model.summary\n",
        "\n"
      ]
    },
    {
      "cell_type": "code",
      "execution_count": 105,
      "id": "d6bc8da9",
      "metadata": {},
      "outputs": [
        {
          "name": "stdout",
          "output_type": "stream",
          "text": [
            "Intercept: 87729.4985\n",
            "Coefficients:\n",
            "Feature 1: 3073.9396\n",
            "Feature 2: -292.0763\n",
            "Feature 3: 3073.9396\n",
            "Feature 4: 29.5828\n",
            "Feature 5: -2253.9775\n",
            "Feature 6: 805.2130\n",
            "Feature 7: 5881.4501\n",
            "Feature 8: -30439.8972\n",
            "Feature 9: 8412.8920\n",
            "Feature 10: -13680.3546\n",
            "Feature 11: -4660.4367\n",
            "Feature 12: 7967.9560\n",
            "Feature 13: -14214.1229\n",
            "Feature 14: -2857.2642\n",
            "Feature 15: -15252.4114\n",
            "Feature 16: 38851.8773\n",
            "Feature 17: -12908.6915\n",
            "Feature 18: -9159.5725\n",
            "Feature 19: 13889.7107\n",
            "Feature 20: 4123.7347\n",
            "Feature 21: -40022.9996\n",
            "Feature 22: 27224.9060\n",
            "Feature 23: 5759.7671\n",
            "Feature 24: -6588.6707\n",
            "Feature 25: 3972.6485\n",
            "Feature 26: 8353.6157\n",
            "Feature 27: 2403.5211\n",
            "Feature 28: -4220.3464\n",
            "Feature 29: 214.4410\n"
          ]
        }
      ],
      "source": [
        "# Coefficients and Intercept\n",
        "print(\"Intercept: {:.4f}\".format(poly_glr_max_years_model.intercept))\n",
        "print(\"Coefficients:\")\n",
        "for i, coef in enumerate(poly_glr_max_years_model.coefficients):\n",
        "    print(f\"Feature {i + 1}: {coef:.4f}\")\n"
      ]
    },
    {
      "cell_type": "code",
      "execution_count": 106,
      "id": "a317d8eb",
      "metadata": {},
      "outputs": [
        {
          "name": "stdout",
          "output_type": "stream",
          "text": [
            "\n",
            "--- Poly Summary ---\n"
          ]
        },
        {
          "name": "stderr",
          "output_type": "stream",
          "text": [
            "[Stage 911:>                                                        (0 + 1) / 1]\r"
          ]
        },
        {
          "name": "stdout",
          "output_type": "stream",
          "text": [
            "Coefficient Standard Errors: ['22747.6805', '36.5365', '22747.6805', '20.5955', '20846.6950', '20859.1237', '20863.3147', '20971.9940', '20987.9155', '20990.0817', '21019.8840', '21100.5976', '21203.5634', '21380.9216', '21419.1586', '21567.5225', '21793.5925', '21905.9591', '22009.1299', '22150.2630', '24166.2009', '24163.3570', '3057.6640', '3566.5832', '2907.7548', '2969.5007', '3355.2443', '4582.4088', '821.4479', '21780.4771']\n",
            "T-Values: ['0.1351', '-7.9941', '0.1351', '1.4364', '-0.1081', '0.0386', '0.2819', '-1.4515', '0.4008', '-0.6518', '-0.2217', '0.3776', '-0.6704', '-0.1336', '-0.7121', '1.8014', '-0.5923', '-0.4181', '0.6311', '0.1862', '-1.6562', '1.1267', '1.8837', '-1.8473', '1.3662', '2.8131', '0.7163', '-0.9210', '0.2611', '4.0279']\n",
            "P-Values: ['0.8925', '0.0000', '0.8925', '0.1510', '0.9139', '0.9692', '0.7780', '0.1467', '0.6886', '0.5146', '0.8245', '0.7057', '0.5027', '0.8937', '0.4764', '0.0717', '0.5537', '0.6759', '0.5280', '0.8523', '0.0978', '0.2599', '0.0597', '0.0648', '0.1719', '0.0049', '0.4738', '0.3571', '0.7941', '0.0001']\n"
          ]
        },
        {
          "name": "stderr",
          "output_type": "stream",
          "text": [
            "                                                                                \r"
          ]
        }
      ],
      "source": [
        "# Summary stats\n",
        "print(\"\\n--- Poly Summary ---\")\n",
        "print(\"Coefficient Standard Errors:\", [f\"{val:.4f}\" for val in poly_summary.coefficientStandardErrors])\n",
        "print(\"T-Values:\", [f\"{val:.4f}\" for val in poly_summary.tValues])\n",
        "print(\"P-Values:\", [f\"{val:.4f}\" for val in poly_summary.pValues])"
      ]
    },
    {
      "cell_type": "code",
      "execution_count": 107,
      "id": "3c78d733",
      "metadata": {},
      "outputs": [
        {
          "name": "stderr",
          "output_type": "stream",
          "text": [
            "                                                                                \r"
          ]
        },
        {
          "name": "stdout",
          "output_type": "stream",
          "text": [
            "Null Deviance: 2909123659016.3140\n",
            "Residual DF Null: 5038\n",
            "Deviance: 2244317022136.5859\n",
            "Residual DF: 5009\n"
          ]
        },
        {
          "name": "stderr",
          "output_type": "stream",
          "text": [
            "[Stage 927:>                                                        (0 + 1) / 1]\r"
          ]
        },
        {
          "name": "stdout",
          "output_type": "stream",
          "text": [
            "AIC: 114711.0237\n"
          ]
        },
        {
          "name": "stderr",
          "output_type": "stream",
          "text": [
            "                                                                                \r"
          ]
        }
      ],
      "source": [
        "# print(f\"\\nDispersion: {summary.dispersion:.4f}\")\n",
        "print(f\"Null Deviance: {poly_summary.nullDeviance:.4f}\")\n",
        "print(f\"Residual DF Null: {poly_summary.residualDegreeOfFreedomNull}\")\n",
        "print(f\"Deviance: {poly_summary.deviance:.4f}\")\n",
        "print(f\"Residual DF: {poly_summary.residualDegreeOfFreedom}\")\n",
        "print(f\"AIC: {poly_summary.aic:.4f}\")\n"
      ]
    },
    {
      "cell_type": "code",
      "execution_count": 108,
      "id": "91d9a055",
      "metadata": {},
      "outputs": [
        {
          "name": "stdout",
          "output_type": "stream",
          "text": [
            "--- This is a diagnostic check, no need to print in the final doc ---\n",
            "Length of features: 30\n",
            "Length of coefs: 30\n",
            "Length of se: 30\n",
            "Length of tvals: 30\n",
            "Length of pvals: 30\n"
          ]
        }
      ],
      "source": [
        "# 1. Pull feature names directly from Java backend\n",
        "feature_names = poly_summary._call_java(\"featureNames\")\n",
        "\n",
        "# 2. Construct full table including intercept\n",
        "poly_features = [\"Intercept\"] + list(feature_names)\n",
        "poly_coefs    = [poly_glr_max_years_model.intercept] + list(poly_glr_max_years_model.coefficients)\n",
        "poly_se       = list(poly_summary.coefficientStandardErrors)\n",
        "poly_tvals    = list(poly_summary.tValues)\n",
        "poly_pvals    = list(poly_summary.pValues)\n",
        "\n",
        "# (Optional) quick diagnostics\n",
        "print(\"--- This is a diagnostic check, no need to print in the final doc ---\")\n",
        "print(\"Length of features:\", len(poly_features))\n",
        "print(\"Length of coefs:\", len(poly_coefs))\n",
        "print(\"Length of se:\", len(poly_se))\n",
        "print(\"Length of tvals:\", len(poly_tvals))\n",
        "print(\"Length of pvals:\", len(poly_pvals))\n"
      ]
    },
    {
      "cell_type": "markdown",
      "id": "b438b28c",
      "metadata": {},
      "source": [
        "# 5.1 Polynomial Regression Summary"
      ]
    },
    {
      "cell_type": "code",
      "execution_count": 109,
      "id": "54feb10f",
      "metadata": {},
      "outputs": [
        {
          "data": {
            "text/html": [
              "<table border=\"1\" class=\"dataframe\">\n",
              "  <thead>\n",
              "    <tr style=\"text-align: right;\">\n",
              "      <th></th>\n",
              "      <th>Feature</th>\n",
              "      <th>Estimate</th>\n",
              "      <th>Std Error</th>\n",
              "      <th>t-stat</th>\n",
              "      <th>P-Value</th>\n",
              "    </tr>\n",
              "  </thead>\n",
              "  <tbody>\n",
              "    <tr>\n",
              "      <th>0</th>\n",
              "      <td>Intercept</td>\n",
              "      <td>87729.4985</td>\n",
              "      <td>22747.6805</td>\n",
              "      <td>0.1351</td>\n",
              "      <td>0.8925</td>\n",
              "    </tr>\n",
              "    <tr>\n",
              "      <th>1</th>\n",
              "      <td>MIN_YEARS_EXPERIENCE</td>\n",
              "      <td>3073.9396</td>\n",
              "      <td>36.5365</td>\n",
              "      <td>-7.9941</td>\n",
              "      <td>0.0000</td>\n",
              "    </tr>\n",
              "    <tr>\n",
              "      <th>2</th>\n",
              "      <td>MAX_YEARS_EXPERIENCE_SQ</td>\n",
              "      <td>-292.0763</td>\n",
              "      <td>22747.6805</td>\n",
              "      <td>0.1351</td>\n",
              "      <td>0.8925</td>\n",
              "    </tr>\n",
              "    <tr>\n",
              "      <th>3</th>\n",
              "      <td>MAX_YEARS_EXPERIENCE</td>\n",
              "      <td>3073.9396</td>\n",
              "      <td>20.5955</td>\n",
              "      <td>1.4364</td>\n",
              "      <td>0.1510</td>\n",
              "    </tr>\n",
              "    <tr>\n",
              "      <th>4</th>\n",
              "      <td>DURATION</td>\n",
              "      <td>29.5828</td>\n",
              "      <td>20846.6950</td>\n",
              "      <td>-0.1081</td>\n",
              "      <td>0.9139</td>\n",
              "    </tr>\n",
              "    <tr>\n",
              "      <th>5</th>\n",
              "      <td>EDUCATION_LEVELS_NAME_vec_\"Bachelor's degree\"</td>\n",
              "      <td>-2253.9775</td>\n",
              "      <td>20859.1237</td>\n",
              "      <td>0.0386</td>\n",
              "      <td>0.9692</td>\n",
              "    </tr>\n",
              "    <tr>\n",
              "      <th>6</th>\n",
              "      <td>EDUCATION_LEVELS_NAME_vec_\"No Education Listed\"</td>\n",
              "      <td>805.2130</td>\n",
              "      <td>20863.3147</td>\n",
              "      <td>0.2819</td>\n",
              "      <td>0.7780</td>\n",
              "    </tr>\n",
              "    <tr>\n",
              "      <th>7</th>\n",
              "      <td>EDUCATION_LEVELS_NAME_vec_\"Bachelor's degree\",  \"Master's degree\"</td>\n",
              "      <td>5881.4501</td>\n",
              "      <td>20971.9940</td>\n",
              "      <td>-1.4515</td>\n",
              "      <td>0.1467</td>\n",
              "    </tr>\n",
              "    <tr>\n",
              "      <th>8</th>\n",
              "      <td>EDUCATION_LEVELS_NAME_vec_\"High school or GED\",  \"Bachelor's degree\"</td>\n",
              "      <td>-30439.8972</td>\n",
              "      <td>20987.9155</td>\n",
              "      <td>0.4008</td>\n",
              "      <td>0.6886</td>\n",
              "    </tr>\n",
              "    <tr>\n",
              "      <th>9</th>\n",
              "      <td>EDUCATION_LEVELS_NAME_vec_\"Bachelor's degree\",  \"Master's degree\",  \"Ph.D. or professional degree\"</td>\n",
              "      <td>8412.8920</td>\n",
              "      <td>20990.0817</td>\n",
              "      <td>-0.6518</td>\n",
              "      <td>0.5146</td>\n",
              "    </tr>\n",
              "    <tr>\n",
              "      <th>10</th>\n",
              "      <td>EDUCATION_LEVELS_NAME_vec_\"High school or GED\"</td>\n",
              "      <td>-13680.3546</td>\n",
              "      <td>21019.8840</td>\n",
              "      <td>-0.2217</td>\n",
              "      <td>0.8245</td>\n",
              "    </tr>\n",
              "    <tr>\n",
              "      <th>11</th>\n",
              "      <td>EDUCATION_LEVELS_NAME_vec_\"Associate degree\",  \"Bachelor's degree\"</td>\n",
              "      <td>-4660.4367</td>\n",
              "      <td>21100.5976</td>\n",
              "      <td>0.3776</td>\n",
              "      <td>0.7057</td>\n",
              "    </tr>\n",
              "    <tr>\n",
              "      <th>12</th>\n",
              "      <td>EDUCATION_LEVELS_NAME_vec_\"Master's degree\"</td>\n",
              "      <td>7967.9560</td>\n",
              "      <td>21203.5634</td>\n",
              "      <td>-0.6704</td>\n",
              "      <td>0.5027</td>\n",
              "    </tr>\n",
              "    <tr>\n",
              "      <th>13</th>\n",
              "      <td>EDUCATION_LEVELS_NAME_vec_\"Associate degree\"</td>\n",
              "      <td>-14214.1229</td>\n",
              "      <td>21380.9216</td>\n",
              "      <td>-0.1336</td>\n",
              "      <td>0.8937</td>\n",
              "    </tr>\n",
              "    <tr>\n",
              "      <th>14</th>\n",
              "      <td>EDUCATION_LEVELS_NAME_vec_\"Associate degree\",  \"Bachelor's degree\",  \"Master's degree\"</td>\n",
              "      <td>-2857.2642</td>\n",
              "      <td>21419.1586</td>\n",
              "      <td>-0.7121</td>\n",
              "      <td>0.4764</td>\n",
              "    </tr>\n",
              "    <tr>\n",
              "      <th>15</th>\n",
              "      <td>EDUCATION_LEVELS_NAME_vec_\"Associate degree\",  \"Bachelor's degree\",  \"Master's degree\",  \"Ph.D. or professional degree\"</td>\n",
              "      <td>-15252.4114</td>\n",
              "      <td>21567.5225</td>\n",
              "      <td>1.8014</td>\n",
              "      <td>0.0717</td>\n",
              "    </tr>\n",
              "    <tr>\n",
              "      <th>16</th>\n",
              "      <td>EDUCATION_LEVELS_NAME_vec_\"Bachelor's degree\",  \"Ph.D. or professional degree\"</td>\n",
              "      <td>38851.8773</td>\n",
              "      <td>21793.5925</td>\n",
              "      <td>-0.5923</td>\n",
              "      <td>0.5537</td>\n",
              "    </tr>\n",
              "    <tr>\n",
              "      <th>17</th>\n",
              "      <td>EDUCATION_LEVELS_NAME_vec_\"High school or GED\",  \"Associate degree\",  \"Bachelor's degree\"</td>\n",
              "      <td>-12908.6915</td>\n",
              "      <td>21905.9591</td>\n",
              "      <td>-0.4181</td>\n",
              "      <td>0.6759</td>\n",
              "    </tr>\n",
              "    <tr>\n",
              "      <th>18</th>\n",
              "      <td>EDUCATION_LEVELS_NAME_vec_\"High school or GED\",  \"Bachelor's degree\",  \"Master's degree\"</td>\n",
              "      <td>-9159.5725</td>\n",
              "      <td>22009.1299</td>\n",
              "      <td>0.6311</td>\n",
              "      <td>0.5280</td>\n",
              "    </tr>\n",
              "    <tr>\n",
              "      <th>19</th>\n",
              "      <td>EDUCATION_LEVELS_NAME_vec_\"Master's degree\",  \"Ph.D. or professional degree\"</td>\n",
              "      <td>13889.7107</td>\n",
              "      <td>22150.2630</td>\n",
              "      <td>0.1862</td>\n",
              "      <td>0.8523</td>\n",
              "    </tr>\n",
              "    <tr>\n",
              "      <th>20</th>\n",
              "      <td>EDUCATION_LEVELS_NAME_vec_\"High school or GED\",  \"Associate degree\"</td>\n",
              "      <td>4123.7347</td>\n",
              "      <td>24166.2009</td>\n",
              "      <td>-1.6562</td>\n",
              "      <td>0.0978</td>\n",
              "    </tr>\n",
              "    <tr>\n",
              "      <th>21</th>\n",
              "      <td>EDUCATION_LEVELS_NAME_vec_\"High school or GED\",  \"Associate degree\",  \"Bachelor's degree\",  \"Master's degree\"</td>\n",
              "      <td>-40022.9996</td>\n",
              "      <td>24163.3570</td>\n",
              "      <td>1.1267</td>\n",
              "      <td>0.2599</td>\n",
              "    </tr>\n",
              "    <tr>\n",
              "      <th>22</th>\n",
              "      <td>EDUCATION_LEVELS_NAME_vec_\"Ph.D. or professional degree\"</td>\n",
              "      <td>27224.9060</td>\n",
              "      <td>3057.6640</td>\n",
              "      <td>1.8837</td>\n",
              "      <td>0.0597</td>\n",
              "    </tr>\n",
              "    <tr>\n",
              "      <th>23</th>\n",
              "      <td>EMPLOYMENT_TYPE_NAME_vec_Full-time (&gt; 32 hours)</td>\n",
              "      <td>5759.7671</td>\n",
              "      <td>3566.5832</td>\n",
              "      <td>-1.8473</td>\n",
              "      <td>0.0648</td>\n",
              "    </tr>\n",
              "    <tr>\n",
              "      <th>24</th>\n",
              "      <td>EMPLOYMENT_TYPE_NAME_vec_Part-time (â‰¤ 32 hours)</td>\n",
              "      <td>-6588.6707</td>\n",
              "      <td>2907.7548</td>\n",
              "      <td>1.3662</td>\n",
              "      <td>0.1719</td>\n",
              "    </tr>\n",
              "    <tr>\n",
              "      <th>25</th>\n",
              "      <td>REMOTE_TYPE_NAME_vec_[None]</td>\n",
              "      <td>3972.6485</td>\n",
              "      <td>2969.5007</td>\n",
              "      <td>2.8131</td>\n",
              "      <td>0.0049</td>\n",
              "    </tr>\n",
              "    <tr>\n",
              "      <th>26</th>\n",
              "      <td>REMOTE_TYPE_NAME_vec_Remote</td>\n",
              "      <td>8353.6157</td>\n",
              "      <td>3355.2443</td>\n",
              "      <td>0.7163</td>\n",
              "      <td>0.4738</td>\n",
              "    </tr>\n",
              "    <tr>\n",
              "      <th>27</th>\n",
              "      <td>REMOTE_TYPE_NAME_vec_Hybrid Remote</td>\n",
              "      <td>2403.5211</td>\n",
              "      <td>4582.4088</td>\n",
              "      <td>-0.9210</td>\n",
              "      <td>0.3571</td>\n",
              "    </tr>\n",
              "    <tr>\n",
              "      <th>28</th>\n",
              "      <td>IS_INTERNSHIP_vec_0</td>\n",
              "      <td>-4220.3464</td>\n",
              "      <td>821.4479</td>\n",
              "      <td>0.2611</td>\n",
              "      <td>0.7941</td>\n",
              "    </tr>\n",
              "    <tr>\n",
              "      <th>29</th>\n",
              "      <td>COMPANY_IS_STAFFING_vec_0</td>\n",
              "      <td>214.4410</td>\n",
              "      <td>21780.4771</td>\n",
              "      <td>4.0279</td>\n",
              "      <td>0.0001</td>\n",
              "    </tr>\n",
              "  </tbody>\n",
              "</table>"
            ],
            "text/plain": [
              "<IPython.core.display.HTML object>"
            ]
          },
          "execution_count": 109,
          "metadata": {},
          "output_type": "execute_result"
        }
      ],
      "source": [
        "import pandas as pd\n",
        "from tabulate import tabulate\n",
        "from IPython.display import HTML\n",
        "\n",
        "poly_coef_table = pd.DataFrame({\n",
        "    \"Feature\": poly_features,\n",
        "    \"Estimate\": [f\"{v:.4f}\" if v is not None else None for v in poly_coefs],\n",
        "    \"Std Error\": [f\"{v:.4f}\" if v is not None else None for v in poly_se],\n",
        "    \"t-stat\": [f\"{v:.4f}\" if v is not None else None for v in poly_tvals],\n",
        "    \"P-Value\": [f\"{v:.4f}\" if v is not None else None for v in poly_pvals]\n",
        "})\n",
        "\n",
        "# 4. Save for report\n",
        "poly_coef_table.to_csv(\"output/poly_summary.csv\", index=False)\n",
        "\n",
        "# 5. Optional pretty print\n",
        "HTML(poly_coef_table.to_html())\n"
      ]
    },
    {
      "cell_type": "markdown",
      "id": "b7b05965",
      "metadata": {},
      "source": [
        "# 6. Random Forest Regressor"
      ]
    },
    {
      "cell_type": "code",
      "execution_count": 110,
      "id": "4955e0e9",
      "metadata": {},
      "outputs": [],
      "source": [
        "# code here"
      ]
    },
    {
      "cell_type": "markdown",
      "id": "25bde9a8",
      "metadata": {},
      "source": [
        "# 6.1 Feature Importance Plot"
      ]
    },
    {
      "cell_type": "code",
      "execution_count": 111,
      "id": "bf5a871f",
      "metadata": {},
      "outputs": [],
      "source": [
        "#code here"
      ]
    },
    {
      "cell_type": "markdown",
      "id": "448c3557",
      "metadata": {},
      "source": [
        "# 7. Compare 3 Models – GLR, Polynomial, RF"
      ]
    },
    {
      "cell_type": "code",
      "execution_count": 112,
      "id": "4cbd0984",
      "metadata": {},
      "outputs": [],
      "source": [
        "#code here"
      ]
    },
    {
      "cell_type": "markdown",
      "id": "b44337e9",
      "metadata": {},
      "source": [
        "# 7.1 Calculating Log-Likelihood and BIC for PySpark Models"
      ]
    },
    {
      "cell_type": "code",
      "execution_count": 113,
      "id": "2380af82",
      "metadata": {},
      "outputs": [],
      "source": [
        "# code here"
      ]
    },
    {
      "cell_type": "markdown",
      "id": "ccb216c1",
      "metadata": {},
      "source": [
        "# 7.2 Evaluation Metrics"
      ]
    }
  ],
  "metadata": {
    "kernelspec": {
      "display_name": ".venv",
      "language": "python",
      "name": "python3"
    },
    "language_info": {
      "codemirror_mode": {
        "name": "ipython",
        "version": 3
      },
      "file_extension": ".py",
      "mimetype": "text/x-python",
      "name": "python",
      "nbconvert_exporter": "python",
      "pygments_lexer": "ipython3",
      "version": "3.12.3"
    }
  },
  "nbformat": 4,
  "nbformat_minor": 5
}
